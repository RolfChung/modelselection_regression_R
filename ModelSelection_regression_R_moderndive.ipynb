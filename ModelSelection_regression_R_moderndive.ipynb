{
 "cells": [
  {
   "cell_type": "markdown",
   "metadata": {},
   "source": [
    "### Summary\n",
    "\n",
    "\n",
    "In this project data modeling is the main goal. Models trying to explorethe connection between an response and a predictor variables. The models used here are regression models.These are the teacher evaluation and the Boston house pricing data set. Question asked are for example if \"age\" can support the prediction of their teacher evaluation scores, or the prediction of the house price base on size and condition. Two data sets are used for this purpose. On the way different cleaning techniques are applied and helper functions written. Also the train-test-working flow is applied to increase accuracy, validity and repeatability."
   ]
  },
  {
   "cell_type": "markdown",
   "metadata": {},
   "source": [
    "### Install and call packages"
   ]
  },
  {
   "cell_type": "code",
   "execution_count": 1,
   "metadata": {},
   "outputs": [
    {
     "name": "stderr",
     "output_type": "stream",
     "text": [
      "Installing package into 'C:/Users/gamarandor/Documents/R/win-library/3.5'\n",
      "(as 'lib' is unspecified)\n"
     ]
    },
    {
     "name": "stdout",
     "output_type": "stream",
     "text": [
      "package 'tidyverse' successfully unpacked and MD5 sums checked\n",
      "\n",
      "The downloaded binary packages are in\n",
      "\tC:\\Users\\gamarandor\\AppData\\Local\\Temp\\RtmpYvqPBM\\downloaded_packages\n"
     ]
    }
   ],
   "source": [
    "install.packages(\"tidyverse\", repos='http://cran.us.r-project.org')"
   ]
  },
  {
   "cell_type": "code",
   "execution_count": 2,
   "metadata": {},
   "outputs": [
    {
     "name": "stderr",
     "output_type": "stream",
     "text": [
      "Warning message:\n",
      "\"package 'tidyverse' was built under R version 3.5.3\"-- \u001b[1mAttaching packages\u001b[22m --------------------------------------- tidyverse 1.2.1 --\n",
      "\u001b[32mv\u001b[39m \u001b[34mggplot2\u001b[39m 3.1.0     \u001b[32mv\u001b[39m \u001b[34mpurrr  \u001b[39m 0.2.5\n",
      "\u001b[32mv\u001b[39m \u001b[34mtibble \u001b[39m 1.4.2     \u001b[32mv\u001b[39m \u001b[34mdplyr  \u001b[39m 0.7.8\n",
      "\u001b[32mv\u001b[39m \u001b[34mtidyr  \u001b[39m 0.8.2     \u001b[32mv\u001b[39m \u001b[34mstringr\u001b[39m 1.3.1\n",
      "\u001b[32mv\u001b[39m \u001b[34mreadr  \u001b[39m 1.3.1     \u001b[32mv\u001b[39m \u001b[34mforcats\u001b[39m 0.4.0\n",
      "Warning message:\n",
      "\"package 'readr' was built under R version 3.5.2\"Warning message:\n",
      "\"package 'forcats' was built under R version 3.5.2\"-- \u001b[1mConflicts\u001b[22m ------------------------------------------ tidyverse_conflicts() --\n",
      "\u001b[31mx\u001b[39m \u001b[34mdplyr\u001b[39m::\u001b[32mfilter()\u001b[39m masks \u001b[34mstats\u001b[39m::filter()\n",
      "\u001b[31mx\u001b[39m \u001b[34mdplyr\u001b[39m::\u001b[32mlag()\u001b[39m    masks \u001b[34mstats\u001b[39m::lag()\n"
     ]
    }
   ],
   "source": [
    "# Which packages were installed\n",
    "library(tidyverse)"
   ]
  },
  {
   "cell_type": "code",
   "execution_count": 3,
   "metadata": {},
   "outputs": [
    {
     "data": {
      "text/html": [
       "<ol class=list-inline>\n",
       "\t<li>'broom'</li>\n",
       "\t<li>'cli'</li>\n",
       "\t<li>'crayon'</li>\n",
       "\t<li>'dplyr'</li>\n",
       "\t<li>'dbplyr'</li>\n",
       "\t<li>'forcats'</li>\n",
       "\t<li>'ggplot2'</li>\n",
       "\t<li>'haven'</li>\n",
       "\t<li>'hms'</li>\n",
       "\t<li>'httr'</li>\n",
       "\t<li>'jsonlite'</li>\n",
       "\t<li>'lubridate'</li>\n",
       "\t<li>'magrittr'</li>\n",
       "\t<li>'modelr'</li>\n",
       "\t<li>'purrr'</li>\n",
       "\t<li>'readr'</li>\n",
       "\t<li>'readxl\\n(&gt;='</li>\n",
       "\t<li>'reprex'</li>\n",
       "\t<li>'rlang'</li>\n",
       "\t<li>'rstudioapi'</li>\n",
       "\t<li>'rvest'</li>\n",
       "\t<li>'stringr'</li>\n",
       "\t<li>'tibble'</li>\n",
       "\t<li>'tidyr'</li>\n",
       "\t<li>'xml2'</li>\n",
       "\t<li>'tidyverse'</li>\n",
       "</ol>\n"
      ],
      "text/latex": [
       "\\begin{enumerate*}\n",
       "\\item 'broom'\n",
       "\\item 'cli'\n",
       "\\item 'crayon'\n",
       "\\item 'dplyr'\n",
       "\\item 'dbplyr'\n",
       "\\item 'forcats'\n",
       "\\item 'ggplot2'\n",
       "\\item 'haven'\n",
       "\\item 'hms'\n",
       "\\item 'httr'\n",
       "\\item 'jsonlite'\n",
       "\\item 'lubridate'\n",
       "\\item 'magrittr'\n",
       "\\item 'modelr'\n",
       "\\item 'purrr'\n",
       "\\item 'readr'\n",
       "\\item 'readxl\\textbackslash{}n(>='\n",
       "\\item 'reprex'\n",
       "\\item 'rlang'\n",
       "\\item 'rstudioapi'\n",
       "\\item 'rvest'\n",
       "\\item 'stringr'\n",
       "\\item 'tibble'\n",
       "\\item 'tidyr'\n",
       "\\item 'xml2'\n",
       "\\item 'tidyverse'\n",
       "\\end{enumerate*}\n"
      ],
      "text/markdown": [
       "1. 'broom'\n",
       "2. 'cli'\n",
       "3. 'crayon'\n",
       "4. 'dplyr'\n",
       "5. 'dbplyr'\n",
       "6. 'forcats'\n",
       "7. 'ggplot2'\n",
       "8. 'haven'\n",
       "9. 'hms'\n",
       "10. 'httr'\n",
       "11. 'jsonlite'\n",
       "12. 'lubridate'\n",
       "13. 'magrittr'\n",
       "14. 'modelr'\n",
       "15. 'purrr'\n",
       "16. 'readr'\n",
       "17. 'readxl\\n(&gt;='\n",
       "18. 'reprex'\n",
       "19. 'rlang'\n",
       "20. 'rstudioapi'\n",
       "21. 'rvest'\n",
       "22. 'stringr'\n",
       "23. 'tibble'\n",
       "24. 'tidyr'\n",
       "25. 'xml2'\n",
       "26. 'tidyverse'\n",
       "\n",
       "\n"
      ],
      "text/plain": [
       " [1] \"broom\"       \"cli\"         \"crayon\"      \"dplyr\"       \"dbplyr\"     \n",
       " [6] \"forcats\"     \"ggplot2\"     \"haven\"       \"hms\"         \"httr\"       \n",
       "[11] \"jsonlite\"    \"lubridate\"   \"magrittr\"    \"modelr\"      \"purrr\"      \n",
       "[16] \"readr\"       \"readxl\\n(>=\" \"reprex\"      \"rlang\"       \"rstudioapi\" \n",
       "[21] \"rvest\"       \"stringr\"     \"tibble\"      \"tidyr\"       \"xml2\"       \n",
       "[26] \"tidyverse\"  "
      ]
     },
     "metadata": {},
     "output_type": "display_data"
    }
   ],
   "source": [
    "tidyverse_packages()"
   ]
  },
  {
   "cell_type": "code",
   "execution_count": 4,
   "metadata": {},
   "outputs": [
    {
     "name": "stderr",
     "output_type": "stream",
     "text": [
      "Installing package into 'C:/Users/gamarandor/Documents/R/win-library/3.5'\n",
      "(as 'lib' is unspecified)\n"
     ]
    },
    {
     "name": "stdout",
     "output_type": "stream",
     "text": [
      "package 'moderndive' successfully unpacked and MD5 sums checked\n",
      "\n",
      "The downloaded binary packages are in\n",
      "\tC:\\Users\\gamarandor\\AppData\\Local\\Temp\\RtmpYvqPBM\\downloaded_packages\n"
     ]
    }
   ],
   "source": [
    "install.packages(\"moderndive\", repos='http://cran.us.r-project.org')"
   ]
  },
  {
   "cell_type": "code",
   "execution_count": 5,
   "metadata": {},
   "outputs": [
    {
     "name": "stderr",
     "output_type": "stream",
     "text": [
      "Warning message:\n",
      "\"package 'moderndive' was built under R version 3.5.3\""
     ]
    }
   ],
   "source": [
    "# Description\n",
    "# Datasets and wrapper functions for tidyverse-friendly introductory linear regression, used in ModernDive:\n",
    "# An Introduction to Statistical and Data Sciences via R available at <http://moderndive.com/> \n",
    "# https://cran.r-project.org/web/packages/moderndive/moderndive.pdf\n",
    "\n",
    "library(moderndive)"
   ]
  },
  {
   "cell_type": "markdown",
   "metadata": {},
   "source": [
    "### Teacher Evaluations dataset (evals)"
   ]
  },
  {
   "cell_type": "markdown",
   "metadata": {},
   "source": [
    "<p>\n",
    "The data are gathered from end of semester student evaluations for a large sample of professors\n",
    "from the University of Texas at Austin. In addition, six students rate the \n",
    "professors' physical appearance. The result is a data frame where each row contains a different course \n",
    "and each column has information on either the course or the professor.\n",
    "The data are gathered from end of semester student evaluations for a large sample of professors \n",
    "from the University of Texas at Austin. In addition, six students rate the professors' physical appearance. \n",
    "The result is a data frame where each row contains a different course and each column has information \n",
    "on either the course or the professor.\n",
    "</p>"
   ]
  },
  {
   "cell_type": "markdown",
   "metadata": {},
   "source": [
    "####  Looking at the whole data"
   ]
  },
  {
   "cell_type": "code",
   "execution_count": 6,
   "metadata": {},
   "outputs": [
    {
     "name": "stdout",
     "output_type": "stream",
     "text": [
      "Observations: 463\n",
      "Variables: 13\n",
      "$ ID           <int> 1, 2, 3, 4, 5, 6, 7, 8, 9, 10, 11, 12, 13, 14, 15, 16,...\n",
      "$ score        <dbl> 4.7, 4.1, 3.9, 4.8, 4.6, 4.3, 2.8, 4.1, 3.4, 4.5, 3.8,...\n",
      "$ age          <int> 36, 36, 36, 36, 59, 59, 59, 51, 51, 40, 40, 40, 40, 40...\n",
      "$ bty_avg      <dbl> 5.000, 5.000, 5.000, 5.000, 3.000, 3.000, 3.000, 3.333...\n",
      "$ gender       <fct> female, female, female, female, male, male, male, male...\n",
      "$ ethnicity    <fct> minority, minority, minority, minority, not minority, ...\n",
      "$ language     <fct> english, english, english, english, english, english, ...\n",
      "$ rank         <fct> tenure track, tenure track, tenure track, tenure track...\n",
      "$ pic_outfit   <fct> not formal, not formal, not formal, not formal, not fo...\n",
      "$ pic_color    <fct> color, color, color, color, color, color, color, color...\n",
      "$ cls_did_eval <int> 24, 86, 76, 77, 17, 35, 39, 55, 111, 40, 24, 24, 17, 1...\n",
      "$ cls_students <int> 43, 125, 125, 123, 20, 40, 44, 55, 195, 46, 27, 25, 20...\n",
      "$ cls_level    <fct> upper, upper, upper, upper, upper, upper, upper, upper...\n"
     ]
    }
   ],
   "source": [
    "# dataset: evals\n",
    "# The data are gathered from end of semester student evaluations for a large sample of professors from\n",
    "# the University of Texas at Austin. In addition, six students rate the professors’ physical appearance.\n",
    "# The result is a data frame where each row contains a different course and each column has information \n",
    "# on either the course or the professor\n",
    "# https://www.openintro.org/stat/data/?data=evals\n",
    "\n",
    "glimpse(evals)"
   ]
  },
  {
   "cell_type": "code",
   "execution_count": 7,
   "metadata": {},
   "outputs": [
    {
     "data": {
      "text/html": [
       "<table>\n",
       "<thead><tr><th scope=col>ID</th><th scope=col>score</th><th scope=col>age</th><th scope=col>bty_avg</th><th scope=col>gender</th><th scope=col>ethnicity</th><th scope=col>language</th><th scope=col>rank</th><th scope=col>pic_outfit</th><th scope=col>pic_color</th><th scope=col>cls_did_eval</th><th scope=col>cls_students</th><th scope=col>cls_level</th></tr></thead>\n",
       "<tbody>\n",
       "\t<tr><td>1           </td><td>4.7         </td><td>36          </td><td>5           </td><td>female      </td><td>minority    </td><td>english     </td><td>tenure track</td><td>not formal  </td><td>color       </td><td>24          </td><td> 43         </td><td>upper       </td></tr>\n",
       "\t<tr><td>2           </td><td>4.1         </td><td>36          </td><td>5           </td><td>female      </td><td>minority    </td><td>english     </td><td>tenure track</td><td>not formal  </td><td>color       </td><td>86          </td><td>125         </td><td>upper       </td></tr>\n",
       "\t<tr><td>3           </td><td>3.9         </td><td>36          </td><td>5           </td><td>female      </td><td>minority    </td><td>english     </td><td>tenure track</td><td>not formal  </td><td>color       </td><td>76          </td><td>125         </td><td>upper       </td></tr>\n",
       "\t<tr><td>4           </td><td>4.8         </td><td>36          </td><td>5           </td><td>female      </td><td>minority    </td><td>english     </td><td>tenure track</td><td>not formal  </td><td>color       </td><td>77          </td><td>123         </td><td>upper       </td></tr>\n",
       "\t<tr><td>5           </td><td>4.6         </td><td>59          </td><td>3           </td><td>male        </td><td>not minority</td><td>english     </td><td>tenured     </td><td>not formal  </td><td>color       </td><td>17          </td><td> 20         </td><td>upper       </td></tr>\n",
       "\t<tr><td>6           </td><td>4.3         </td><td>59          </td><td>3           </td><td>male        </td><td>not minority</td><td>english     </td><td>tenured     </td><td>not formal  </td><td>color       </td><td>35          </td><td> 40         </td><td>upper       </td></tr>\n",
       "</tbody>\n",
       "</table>\n"
      ],
      "text/latex": [
       "\\begin{tabular}{r|lllllllllllll}\n",
       " ID & score & age & bty\\_avg & gender & ethnicity & language & rank & pic\\_outfit & pic\\_color & cls\\_did\\_eval & cls\\_students & cls\\_level\\\\\n",
       "\\hline\n",
       "\t 1            & 4.7          & 36           & 5            & female       & minority     & english      & tenure track & not formal   & color        & 24           &  43          & upper       \\\\\n",
       "\t 2            & 4.1          & 36           & 5            & female       & minority     & english      & tenure track & not formal   & color        & 86           & 125          & upper       \\\\\n",
       "\t 3            & 3.9          & 36           & 5            & female       & minority     & english      & tenure track & not formal   & color        & 76           & 125          & upper       \\\\\n",
       "\t 4            & 4.8          & 36           & 5            & female       & minority     & english      & tenure track & not formal   & color        & 77           & 123          & upper       \\\\\n",
       "\t 5            & 4.6          & 59           & 3            & male         & not minority & english      & tenured      & not formal   & color        & 17           &  20          & upper       \\\\\n",
       "\t 6            & 4.3          & 59           & 3            & male         & not minority & english      & tenured      & not formal   & color        & 35           &  40          & upper       \\\\\n",
       "\\end{tabular}\n"
      ],
      "text/markdown": [
       "\n",
       "| ID | score | age | bty_avg | gender | ethnicity | language | rank | pic_outfit | pic_color | cls_did_eval | cls_students | cls_level |\n",
       "|---|---|---|---|---|---|---|---|---|---|---|---|---|\n",
       "| 1            | 4.7          | 36           | 5            | female       | minority     | english      | tenure track | not formal   | color        | 24           |  43          | upper        |\n",
       "| 2            | 4.1          | 36           | 5            | female       | minority     | english      | tenure track | not formal   | color        | 86           | 125          | upper        |\n",
       "| 3            | 3.9          | 36           | 5            | female       | minority     | english      | tenure track | not formal   | color        | 76           | 125          | upper        |\n",
       "| 4            | 4.8          | 36           | 5            | female       | minority     | english      | tenure track | not formal   | color        | 77           | 123          | upper        |\n",
       "| 5            | 4.6          | 59           | 3            | male         | not minority | english      | tenured      | not formal   | color        | 17           |  20          | upper        |\n",
       "| 6            | 4.3          | 59           | 3            | male         | not minority | english      | tenured      | not formal   | color        | 35           |  40          | upper        |\n",
       "\n"
      ],
      "text/plain": [
       "  ID score age bty_avg gender ethnicity    language rank         pic_outfit\n",
       "1 1  4.7   36  5       female minority     english  tenure track not formal\n",
       "2 2  4.1   36  5       female minority     english  tenure track not formal\n",
       "3 3  3.9   36  5       female minority     english  tenure track not formal\n",
       "4 4  4.8   36  5       female minority     english  tenure track not formal\n",
       "5 5  4.6   59  3       male   not minority english  tenured      not formal\n",
       "6 6  4.3   59  3       male   not minority english  tenured      not formal\n",
       "  pic_color cls_did_eval cls_students cls_level\n",
       "1 color     24            43          upper    \n",
       "2 color     86           125          upper    \n",
       "3 color     76           125          upper    \n",
       "4 color     77           123          upper    \n",
       "5 color     17            20          upper    \n",
       "6 color     35            40          upper    "
      ]
     },
     "metadata": {},
     "output_type": "display_data"
    }
   ],
   "source": [
    "head(evals)"
   ]
  },
  {
   "cell_type": "code",
   "execution_count": 8,
   "metadata": {},
   "outputs": [
    {
     "data": {
      "text/html": [
       "<table>\n",
       "<thead><tr><th scope=col>ID</th><th scope=col>score</th><th scope=col>age</th><th scope=col>bty_avg</th><th scope=col>gender</th><th scope=col>ethnicity</th><th scope=col>language</th><th scope=col>rank</th><th scope=col>pic_outfit</th><th scope=col>pic_color</th><th scope=col>cls_did_eval</th><th scope=col>cls_students</th><th scope=col>cls_level</th></tr></thead>\n",
       "<tbody>\n",
       "\t<tr><td>458         </td><td>4.1         </td><td>32          </td><td>6.833       </td><td>male        </td><td>not minority</td><td>english     </td><td>tenure track</td><td>not formal  </td><td>color       </td><td> 9          </td><td>21          </td><td>lower       </td></tr>\n",
       "\t<tr><td>459         </td><td>4.5         </td><td>32          </td><td>6.833       </td><td>male        </td><td>not minority</td><td>english     </td><td>tenure track</td><td>not formal  </td><td>color       </td><td>52          </td><td>86          </td><td>upper       </td></tr>\n",
       "\t<tr><td>460         </td><td>3.5         </td><td>42          </td><td>5.333       </td><td>female      </td><td>minority    </td><td>non-english </td><td>tenure track</td><td>not formal  </td><td>color       </td><td>48          </td><td>84          </td><td>upper       </td></tr>\n",
       "\t<tr><td>461         </td><td>4.4         </td><td>42          </td><td>5.333       </td><td>female      </td><td>minority    </td><td>non-english </td><td>tenure track</td><td>not formal  </td><td>color       </td><td>52          </td><td>67          </td><td>upper       </td></tr>\n",
       "\t<tr><td>462         </td><td>4.4         </td><td>42          </td><td>5.333       </td><td>female      </td><td>minority    </td><td>non-english </td><td>tenure track</td><td>not formal  </td><td>color       </td><td>54          </td><td>66          </td><td>upper       </td></tr>\n",
       "\t<tr><td>463         </td><td>4.1         </td><td>42          </td><td>5.333       </td><td>female      </td><td>minority    </td><td>non-english </td><td>tenure track</td><td>not formal  </td><td>color       </td><td>28          </td><td>35          </td><td>lower       </td></tr>\n",
       "</tbody>\n",
       "</table>\n"
      ],
      "text/latex": [
       "\\begin{tabular}{r|lllllllllllll}\n",
       " ID & score & age & bty\\_avg & gender & ethnicity & language & rank & pic\\_outfit & pic\\_color & cls\\_did\\_eval & cls\\_students & cls\\_level\\\\\n",
       "\\hline\n",
       "\t 458          & 4.1          & 32           & 6.833        & male         & not minority & english      & tenure track & not formal   & color        &  9           & 21           & lower       \\\\\n",
       "\t 459          & 4.5          & 32           & 6.833        & male         & not minority & english      & tenure track & not formal   & color        & 52           & 86           & upper       \\\\\n",
       "\t 460          & 3.5          & 42           & 5.333        & female       & minority     & non-english  & tenure track & not formal   & color        & 48           & 84           & upper       \\\\\n",
       "\t 461          & 4.4          & 42           & 5.333        & female       & minority     & non-english  & tenure track & not formal   & color        & 52           & 67           & upper       \\\\\n",
       "\t 462          & 4.4          & 42           & 5.333        & female       & minority     & non-english  & tenure track & not formal   & color        & 54           & 66           & upper       \\\\\n",
       "\t 463          & 4.1          & 42           & 5.333        & female       & minority     & non-english  & tenure track & not formal   & color        & 28           & 35           & lower       \\\\\n",
       "\\end{tabular}\n"
      ],
      "text/markdown": [
       "\n",
       "| ID | score | age | bty_avg | gender | ethnicity | language | rank | pic_outfit | pic_color | cls_did_eval | cls_students | cls_level |\n",
       "|---|---|---|---|---|---|---|---|---|---|---|---|---|\n",
       "| 458          | 4.1          | 32           | 6.833        | male         | not minority | english      | tenure track | not formal   | color        |  9           | 21           | lower        |\n",
       "| 459          | 4.5          | 32           | 6.833        | male         | not minority | english      | tenure track | not formal   | color        | 52           | 86           | upper        |\n",
       "| 460          | 3.5          | 42           | 5.333        | female       | minority     | non-english  | tenure track | not formal   | color        | 48           | 84           | upper        |\n",
       "| 461          | 4.4          | 42           | 5.333        | female       | minority     | non-english  | tenure track | not formal   | color        | 52           | 67           | upper        |\n",
       "| 462          | 4.4          | 42           | 5.333        | female       | minority     | non-english  | tenure track | not formal   | color        | 54           | 66           | upper        |\n",
       "| 463          | 4.1          | 42           | 5.333        | female       | minority     | non-english  | tenure track | not formal   | color        | 28           | 35           | lower        |\n",
       "\n"
      ],
      "text/plain": [
       "  ID  score age bty_avg gender ethnicity    language    rank         pic_outfit\n",
       "1 458 4.1   32  6.833   male   not minority english     tenure track not formal\n",
       "2 459 4.5   32  6.833   male   not minority english     tenure track not formal\n",
       "3 460 3.5   42  5.333   female minority     non-english tenure track not formal\n",
       "4 461 4.4   42  5.333   female minority     non-english tenure track not formal\n",
       "5 462 4.4   42  5.333   female minority     non-english tenure track not formal\n",
       "6 463 4.1   42  5.333   female minority     non-english tenure track not formal\n",
       "  pic_color cls_did_eval cls_students cls_level\n",
       "1 color      9           21           lower    \n",
       "2 color     52           86           upper    \n",
       "3 color     48           84           upper    \n",
       "4 color     52           67           upper    \n",
       "5 color     54           66           upper    \n",
       "6 color     28           35           lower    "
      ]
     },
     "metadata": {},
     "output_type": "display_data"
    }
   ],
   "source": [
    "tail(evals)"
   ]
  },
  {
   "cell_type": "code",
   "execution_count": 9,
   "metadata": {},
   "outputs": [
    {
     "data": {
      "text/html": [
       "463"
      ],
      "text/latex": [
       "463"
      ],
      "text/markdown": [
       "463"
      ],
      "text/plain": [
       "[1] 463"
      ]
     },
     "metadata": {},
     "output_type": "display_data"
    },
    {
     "data": {
      "text/html": [
       "13"
      ],
      "text/latex": [
       "13"
      ],
      "text/markdown": [
       "13"
      ],
      "text/plain": [
       "[1] 13"
      ]
     },
     "metadata": {},
     "output_type": "display_data"
    },
    {
     "data": {
      "text/html": [
       "<ol class=list-inline>\n",
       "\t<li>463</li>\n",
       "\t<li>13</li>\n",
       "</ol>\n"
      ],
      "text/latex": [
       "\\begin{enumerate*}\n",
       "\\item 463\n",
       "\\item 13\n",
       "\\end{enumerate*}\n"
      ],
      "text/markdown": [
       "1. 463\n",
       "2. 13\n",
       "\n",
       "\n"
      ],
      "text/plain": [
       "[1] 463  13"
      ]
     },
     "metadata": {},
     "output_type": "display_data"
    }
   ],
   "source": [
    "nrow(evals)\n",
    "ncol(evals)\n",
    "dim(evals)"
   ]
  },
  {
   "cell_type": "code",
   "execution_count": 10,
   "metadata": {},
   "outputs": [
    {
     "data": {
      "text/html": [
       "<ol class=list-inline>\n",
       "\t<li>'ID'</li>\n",
       "\t<li>'score'</li>\n",
       "\t<li>'age'</li>\n",
       "\t<li>'bty_avg'</li>\n",
       "\t<li>'gender'</li>\n",
       "\t<li>'ethnicity'</li>\n",
       "\t<li>'language'</li>\n",
       "\t<li>'rank'</li>\n",
       "\t<li>'pic_outfit'</li>\n",
       "\t<li>'pic_color'</li>\n",
       "\t<li>'cls_did_eval'</li>\n",
       "\t<li>'cls_students'</li>\n",
       "\t<li>'cls_level'</li>\n",
       "</ol>\n"
      ],
      "text/latex": [
       "\\begin{enumerate*}\n",
       "\\item 'ID'\n",
       "\\item 'score'\n",
       "\\item 'age'\n",
       "\\item 'bty\\_avg'\n",
       "\\item 'gender'\n",
       "\\item 'ethnicity'\n",
       "\\item 'language'\n",
       "\\item 'rank'\n",
       "\\item 'pic\\_outfit'\n",
       "\\item 'pic\\_color'\n",
       "\\item 'cls\\_did\\_eval'\n",
       "\\item 'cls\\_students'\n",
       "\\item 'cls\\_level'\n",
       "\\end{enumerate*}\n"
      ],
      "text/markdown": [
       "1. 'ID'\n",
       "2. 'score'\n",
       "3. 'age'\n",
       "4. 'bty_avg'\n",
       "5. 'gender'\n",
       "6. 'ethnicity'\n",
       "7. 'language'\n",
       "8. 'rank'\n",
       "9. 'pic_outfit'\n",
       "10. 'pic_color'\n",
       "11. 'cls_did_eval'\n",
       "12. 'cls_students'\n",
       "13. 'cls_level'\n",
       "\n",
       "\n"
      ],
      "text/plain": [
       " [1] \"ID\"           \"score\"        \"age\"          \"bty_avg\"      \"gender\"      \n",
       " [6] \"ethnicity\"    \"language\"     \"rank\"         \"pic_outfit\"   \"pic_color\"   \n",
       "[11] \"cls_did_eval\" \"cls_students\" \"cls_level\"   "
      ]
     },
     "metadata": {},
     "output_type": "display_data"
    },
    {
     "data": {
      "text/html": [
       "13"
      ],
      "text/latex": [
       "13"
      ],
      "text/markdown": [
       "13"
      ],
      "text/plain": [
       "[1] 13"
      ]
     },
     "metadata": {},
     "output_type": "display_data"
    }
   ],
   "source": [
    "names(evals)\n",
    "length(names(evals))"
   ]
  },
  {
   "cell_type": "code",
   "execution_count": 11,
   "metadata": {},
   "outputs": [
    {
     "data": {
      "text/plain": [
       "       ID            score            age           bty_avg         gender   \n",
       " Min.   :  1.0   Min.   :2.300   Min.   :29.00   Min.   :1.667   female:195  \n",
       " 1st Qu.:116.5   1st Qu.:3.800   1st Qu.:42.00   1st Qu.:3.167   male  :268  \n",
       " Median :232.0   Median :4.300   Median :48.00   Median :4.333               \n",
       " Mean   :232.0   Mean   :4.175   Mean   :48.37   Mean   :4.418               \n",
       " 3rd Qu.:347.5   3rd Qu.:4.600   3rd Qu.:57.00   3rd Qu.:5.500               \n",
       " Max.   :463.0   Max.   :5.000   Max.   :73.00   Max.   :8.167               \n",
       "        ethnicity          language             rank          pic_outfit \n",
       " minority    : 64   english    :435   teaching    :102   formal    : 77  \n",
       " not minority:399   non-english: 28   tenure track:108   not formal:386  \n",
       "                                      tenured     :253                   \n",
       "                                                                         \n",
       "                                                                         \n",
       "                                                                         \n",
       "       pic_color    cls_did_eval     cls_students    cls_level  \n",
       " black&white: 78   Min.   :  5.00   Min.   :  8.00   lower:157  \n",
       " color      :385   1st Qu.: 15.00   1st Qu.: 19.00   upper:306  \n",
       "                   Median : 23.00   Median : 29.00              \n",
       "                   Mean   : 36.62   Mean   : 55.18              \n",
       "                   3rd Qu.: 40.00   3rd Qu.: 60.00              \n",
       "                   Max.   :380.00   Max.   :581.00              "
      ]
     },
     "metadata": {},
     "output_type": "display_data"
    }
   ],
   "source": [
    "summary(evals)"
   ]
  },
  {
   "cell_type": "code",
   "execution_count": 12,
   "metadata": {},
   "outputs": [
    {
     "data": {
      "text/html": [
       "<ol class=list-inline>\n",
       "\t<li>'tbl_df'</li>\n",
       "\t<li>'tbl'</li>\n",
       "\t<li>'data.frame'</li>\n",
       "</ol>\n"
      ],
      "text/latex": [
       "\\begin{enumerate*}\n",
       "\\item 'tbl\\_df'\n",
       "\\item 'tbl'\n",
       "\\item 'data.frame'\n",
       "\\end{enumerate*}\n"
      ],
      "text/markdown": [
       "1. 'tbl_df'\n",
       "2. 'tbl'\n",
       "3. 'data.frame'\n",
       "\n",
       "\n"
      ],
      "text/plain": [
       "[1] \"tbl_df\"     \"tbl\"        \"data.frame\""
      ]
     },
     "metadata": {},
     "output_type": "display_data"
    }
   ],
   "source": [
    "class(evals)"
   ]
  },
  {
   "cell_type": "code",
   "execution_count": 13,
   "metadata": {},
   "outputs": [
    {
     "data": {
      "text/html": [
       "0"
      ],
      "text/latex": [
       "0"
      ],
      "text/markdown": [
       "0"
      ],
      "text/plain": [
       "[1] 0"
      ]
     },
     "metadata": {},
     "output_type": "display_data"
    }
   ],
   "source": [
    "# None missing values are occuring\n",
    "sum(is.na(evals))"
   ]
  },
  {
   "cell_type": "markdown",
   "metadata": {},
   "source": [
    "#### Univariate EDA - Looking at the teaching score variable"
   ]
  },
  {
   "cell_type": "code",
   "execution_count": 14,
   "metadata": {},
   "outputs": [
    {
     "data": {
      "text/html": [
       "<ol class=list-inline>\n",
       "\t<li>4.7</li>\n",
       "\t<li>4.1</li>\n",
       "\t<li>3.9</li>\n",
       "\t<li>4.8</li>\n",
       "\t<li>4.6</li>\n",
       "\t<li>4.3</li>\n",
       "\t<li>2.8</li>\n",
       "\t<li>3.4</li>\n",
       "\t<li>4.5</li>\n",
       "\t<li>3.8</li>\n",
       "\t<li>4.9</li>\n",
       "\t<li>4.4</li>\n",
       "\t<li>4.2</li>\n",
       "\t<li>3.5</li>\n",
       "\t<li>2.5</li>\n",
       "\t<li>4</li>\n",
       "\t<li>5</li>\n",
       "\t<li>3.6</li>\n",
       "\t<li>3.7</li>\n",
       "\t<li>2.9</li>\n",
       "\t<li>3.3</li>\n",
       "\t<li>3.2</li>\n",
       "\t<li>2.3</li>\n",
       "\t<li>3</li>\n",
       "\t<li>3.1</li>\n",
       "\t<li>2.7</li>\n",
       "\t<li>2.4</li>\n",
       "</ol>\n"
      ],
      "text/latex": [
       "\\begin{enumerate*}\n",
       "\\item 4.7\n",
       "\\item 4.1\n",
       "\\item 3.9\n",
       "\\item 4.8\n",
       "\\item 4.6\n",
       "\\item 4.3\n",
       "\\item 2.8\n",
       "\\item 3.4\n",
       "\\item 4.5\n",
       "\\item 3.8\n",
       "\\item 4.9\n",
       "\\item 4.4\n",
       "\\item 4.2\n",
       "\\item 3.5\n",
       "\\item 2.5\n",
       "\\item 4\n",
       "\\item 5\n",
       "\\item 3.6\n",
       "\\item 3.7\n",
       "\\item 2.9\n",
       "\\item 3.3\n",
       "\\item 3.2\n",
       "\\item 2.3\n",
       "\\item 3\n",
       "\\item 3.1\n",
       "\\item 2.7\n",
       "\\item 2.4\n",
       "\\end{enumerate*}\n"
      ],
      "text/markdown": [
       "1. 4.7\n",
       "2. 4.1\n",
       "3. 3.9\n",
       "4. 4.8\n",
       "5. 4.6\n",
       "6. 4.3\n",
       "7. 2.8\n",
       "8. 3.4\n",
       "9. 4.5\n",
       "10. 3.8\n",
       "11. 4.9\n",
       "12. 4.4\n",
       "13. 4.2\n",
       "14. 3.5\n",
       "15. 2.5\n",
       "16. 4\n",
       "17. 5\n",
       "18. 3.6\n",
       "19. 3.7\n",
       "20. 2.9\n",
       "21. 3.3\n",
       "22. 3.2\n",
       "23. 2.3\n",
       "24. 3\n",
       "25. 3.1\n",
       "26. 2.7\n",
       "27. 2.4\n",
       "\n",
       "\n"
      ],
      "text/plain": [
       " [1] 4.7 4.1 3.9 4.8 4.6 4.3 2.8 3.4 4.5 3.8 4.9 4.4 4.2 3.5 2.5 4.0 5.0 3.6 3.7\n",
       "[20] 2.9 3.3 3.2 2.3 3.0 3.1 2.7 2.4"
      ]
     },
     "metadata": {},
     "output_type": "display_data"
    },
    {
     "name": "stdout",
     "output_type": "stream",
     "text": [
      " num [1:463] 4.7 4.1 3.9 4.8 4.6 4.3 2.8 4.1 3.4 4.5 ...\n"
     ]
    },
    {
     "data": {
      "text/html": [
       "'numeric'"
      ],
      "text/latex": [
       "'numeric'"
      ],
      "text/markdown": [
       "'numeric'"
      ],
      "text/plain": [
       "[1] \"numeric\""
      ]
     },
     "metadata": {},
     "output_type": "display_data"
    },
    {
     "data": {
      "text/plain": [
       "NULL"
      ]
     },
     "metadata": {},
     "output_type": "display_data"
    },
    {
     "data": {
      "text/plain": [
       "   Min. 1st Qu.  Median    Mean 3rd Qu.    Max. \n",
       "  2.300   3.800   4.300   4.175   4.600   5.000 "
      ]
     },
     "metadata": {},
     "output_type": "display_data"
    },
    {
     "data": {
      "text/html": [
       "<table>\n",
       "<thead><tr><th scope=col>score</th><th scope=col>n</th></tr></thead>\n",
       "<tbody>\n",
       "\t<tr><td>2.3</td><td>1  </td></tr>\n",
       "\t<tr><td>2.4</td><td>1  </td></tr>\n",
       "\t<tr><td>2.5</td><td>2  </td></tr>\n",
       "\t<tr><td>2.7</td><td>2  </td></tr>\n",
       "\t<tr><td>2.8</td><td>3  </td></tr>\n",
       "</tbody>\n",
       "</table>\n"
      ],
      "text/latex": [
       "\\begin{tabular}{r|ll}\n",
       " score & n\\\\\n",
       "\\hline\n",
       "\t 2.3 & 1  \\\\\n",
       "\t 2.4 & 1  \\\\\n",
       "\t 2.5 & 2  \\\\\n",
       "\t 2.7 & 2  \\\\\n",
       "\t 2.8 & 3  \\\\\n",
       "\\end{tabular}\n"
      ],
      "text/markdown": [
       "\n",
       "| score | n |\n",
       "|---|---|\n",
       "| 2.3 | 1   |\n",
       "| 2.4 | 1   |\n",
       "| 2.5 | 2   |\n",
       "| 2.7 | 2   |\n",
       "| 2.8 | 3   |\n",
       "\n"
      ],
      "text/plain": [
       "  score n\n",
       "1 2.3   1\n",
       "2 2.4   1\n",
       "3 2.5   2\n",
       "4 2.7   2\n",
       "5 2.8   3"
      ]
     },
     "metadata": {},
     "output_type": "display_data"
    },
    {
     "data": {
      "text/plain": [
       "\n",
       "2.3 2.4 2.5 2.7 2.8 2.9   3 3.1 3.2 3.3 3.4 3.5 3.6 3.7 3.8 3.9   4 4.1 4.2 4.3 \n",
       "  1   1   2   2   3   2   5   6   4  11  11  17  20  19  19  26  24  28  22  26 \n",
       "4.4 4.5 4.6 4.7 4.8 4.9   5 \n",
       " 43  41  34  25  35  25  11 "
      ]
     },
     "metadata": {},
     "output_type": "display_data"
    }
   ],
   "source": [
    "unique(evals$score)\n",
    "str(evals$score)\n",
    "class(evals$score)\n",
    "dim(evals$score)\n",
    "summary(evals$score)\n",
    "frequencies <- count(evals, score)\n",
    "frequencies[1:5,1:2]\n",
    "table(evals$score)"
   ]
  },
  {
   "cell_type": "markdown",
   "metadata": {},
   "source": [
    "#### Visualize data"
   ]
  },
  {
   "cell_type": "code",
   "execution_count": 15,
   "metadata": {},
   "outputs": [
    {
     "name": "stderr",
     "output_type": "stream",
     "text": [
      "`stat_bin()` using `bins = 30`. Pick better value with `binwidth`.\n"
     ]
    },
    {
     "data": {
      "image/png": "[encoded data removed]",
      "text/plain": [
       "plot without title"
      ]
     },
     "metadata": {},
     "output_type": "display_data"
    }
   ],
   "source": [
    "# Average professor evaluation score: (1) very unsatisfactory - (5) excellent.\n",
    "evals %>%\n",
    "ggplot(aes(x=score)) +\n",
    "geom_histogram(color=\"green\", size=0.8, fill=\"blue\", aes(y =..density..)) +\n",
    "labs(x=\"Teaching_Scores\", y=\"Count\")+\n",
    "stat_function(fun = dnorm, args = list(mean = mean(evals$score), sd = sd(evals$score)), color=\"red\", size=1.5)\n",
    "\n",
    "# This stat makes it easy to superimpose a function on top of an existing plot. \n",
    "# The function is called with a grid of evenly spaced values along the x axis, and the results are drawn \n",
    "# (by default) with a line.\n",
    "# https://www.rdocumentation.org/packages/ggplot2/versions/3.1.0/topics/stat_function\n",
    "\n"
   ]
  },
  {
   "cell_type": "markdown",
   "metadata": {},
   "source": [
    "#### Data transformation of teaching scores\n",
    "\n",
    "<p>\n",
    "Data transformation changes a variable with the output of a function of that variable.\n",
    "For example the logarithm of basis 10 is a function used for changing the variable.\n",
    "As this is done over all values of a variable the distribution of that variable is changed.\n",
    "Making the distribution more normal is one major goal of data transformation,\n",
    "because(predictive) modeling fits better with distribution similar to the normal distribution.\n",
    "Having a normal distribution reduces skewness, make better linear relationships, allows for \n",
    "additive relationships or make spreads more equal.\n",
    "All this will hopefully in better predictions or increase model performance.\n",
    "</p>\n",
    "<p>\n",
    "More information on <a href= \"http://fmwww.bc.edu/repec/bocode/t/transint.html\">\n",
    "Transformations</a> here.\n",
    "</p>"
   ]
  },
  {
   "cell_type": "code",
   "execution_count": 16,
   "metadata": {},
   "outputs": [
    {
     "name": "stdout",
     "output_type": "stream",
     "text": [
      "Observations: 27\n",
      "Variables: 2\n",
      "$ score <dbl> 2.3, 2.4, 2.5, 2.7, 2.8, 2.9, 3.0, 3.1, 3.2, 3.3, 3.4, 3.5, 3...\n",
      "$ n     <int> 1, 1, 2, 2, 3, 2, 5, 6, 4, 11, 11, 17, 20, 19, 19, 26, 24, 28...\n"
     ]
    },
    {
     "data": {
      "text/html": [
       "43"
      ],
      "text/latex": [
       "43"
      ],
      "text/markdown": [
       "43"
      ],
      "text/plain": [
       "[1] 43"
      ]
     },
     "metadata": {},
     "output_type": "display_data"
    },
    {
     "data": {
      "text/html": [
       "<table>\n",
       "<thead><tr><th scope=col>score</th><th scope=col>n</th></tr></thead>\n",
       "<tbody>\n",
       "\t<tr><td>4.2</td><td>22 </td></tr>\n",
       "\t<tr><td>4.3</td><td>26 </td></tr>\n",
       "\t<tr><td>4.4</td><td>43 </td></tr>\n",
       "\t<tr><td>4.5</td><td>41 </td></tr>\n",
       "\t<tr><td>4.6</td><td>34 </td></tr>\n",
       "</tbody>\n",
       "</table>\n"
      ],
      "text/latex": [
       "\\begin{tabular}{r|ll}\n",
       " score & n\\\\\n",
       "\\hline\n",
       "\t 4.2 & 22 \\\\\n",
       "\t 4.3 & 26 \\\\\n",
       "\t 4.4 & 43 \\\\\n",
       "\t 4.5 & 41 \\\\\n",
       "\t 4.6 & 34 \\\\\n",
       "\\end{tabular}\n"
      ],
      "text/markdown": [
       "\n",
       "| score | n |\n",
       "|---|---|\n",
       "| 4.2 | 22  |\n",
       "| 4.3 | 26  |\n",
       "| 4.4 | 43  |\n",
       "| 4.5 | 41  |\n",
       "| 4.6 | 34  |\n",
       "\n"
      ],
      "text/plain": [
       "  score n \n",
       "1 4.2   22\n",
       "2 4.3   26\n",
       "3 4.4   43\n",
       "4 4.5   41\n",
       "5 4.6   34"
      ]
     },
     "metadata": {},
     "output_type": "display_data"
    },
    {
     "data": {
      "text/html": [
       "<table>\n",
       "<thead><tr><th scope=col>row</th><th scope=col>col</th></tr></thead>\n",
       "<tbody>\n",
       "\t<tr><td>21</td><td>2 </td></tr>\n",
       "</tbody>\n",
       "</table>\n"
      ],
      "text/latex": [
       "\\begin{tabular}{ll}\n",
       " row & col\\\\\n",
       "\\hline\n",
       "\t 21 & 2 \\\\\n",
       "\\end{tabular}\n"
      ],
      "text/markdown": [
       "\n",
       "| row | col |\n",
       "|---|---|\n",
       "| 21 | 2  |\n",
       "\n"
      ],
      "text/plain": [
       "     row col\n",
       "[1,] 21  2  "
      ]
     },
     "metadata": {},
     "output_type": "display_data"
    }
   ],
   "source": [
    "frequency_table_score <- count(evals, score)\n",
    "glimpse(frequency_table_score)\n",
    "frequency_table_score_max<-max(frequency_table_score)\n",
    "frequency_table_score_max\n",
    "frequency_table_score[19:23,1:2]\n",
    "which(frequency_table_score==frequency_table_score_max,  arr.ind = TRUE)\n"
   ]
  },
  {
   "cell_type": "code",
   "execution_count": 17,
   "metadata": {
    "scrolled": true
   },
   "outputs": [
    {
     "data": {
      "image/png": "[encoded data removed]",
      "text/plain": [
       "plot without title"
      ]
     },
     "metadata": {},
     "output_type": "display_data"
    }
   ],
   "source": [
    "density_score <- density(evals$score)\n",
    "ggplot(evals, aes(x=score)) +\n",
    "geom_density(fill=\"darkblue\", alpha=0.8)+\n",
    "geom_vline(xintercept=4.5-0.01, linetype=\"dashed\", size=1.5, color=\"red\")+\n",
    "geom_text(aes(x=4.7, label=\"Median\", y=0.7), size=5, colour=\"red\")+\n",
    "geom_vline(xintercept=4.175, linetype=\"dashed\", size=1.5, color=\"green\")+\n",
    "geom_text(aes(x=4.0, label=\"Mean\", y=0.7), size=5, colour=\"green\")\n",
    "\n",
    "\n",
    "\n"
   ]
  },
  {
   "cell_type": "code",
   "execution_count": 18,
   "metadata": {},
   "outputs": [
    {
     "data": {
      "image/png": "[encoded data removed]",
      "text/plain": [
       "Plot with title \"Normal Q-Q Plot\""
      ]
     },
     "metadata": {},
     "output_type": "display_data"
    }
   ],
   "source": [
    "# Assesment of normality with quantile-quantile plot\n",
    "qqnorm(evals$score,\n",
    "       ylab=\"Sample Quantiles for Scores\")\n",
    "qqline(evals$score,\n",
    "       col=\"red\")"
   ]
  },
  {
   "cell_type": "markdown",
   "metadata": {},
   "source": [
    "### Picking up the optimal number of bins with the Freedman_Diaconis rule"
   ]
  },
  {
   "cell_type": "code",
   "execution_count": 19,
   "metadata": {},
   "outputs": [
    {
     "data": {
      "text/html": [
       "<span style=white-space:pre-wrap>'Freedman Diaconis rule for teaching scores version 1:  14'</span>"
      ],
      "text/latex": [
       "'Freedman Diaconis rule for teaching scores version 1:  14'"
      ],
      "text/markdown": [
       "<span style=white-space:pre-wrap>'Freedman Diaconis rule for teaching scores version 1:  14'</span>"
      ],
      "text/plain": [
       "[1] \"Freedman Diaconis rule for teaching scores version 1:  14\""
      ]
     },
     "metadata": {},
     "output_type": "display_data"
    },
    {
     "data": {
      "text/html": [
       "<span style=white-space:pre-wrap>'Freedman Diaconis rule for teaching scores version 1:  13.0548167044157'</span>"
      ],
      "text/latex": [
       "'Freedman Diaconis rule for teaching scores version 1:  13.0548167044157'"
      ],
      "text/markdown": [
       "<span style=white-space:pre-wrap>'Freedman Diaconis rule for teaching scores version 1:  13.0548167044157'</span>"
      ],
      "text/plain": [
       "[1] \"Freedman Diaconis rule for teaching scores version 1:  13.0548167044157\""
      ]
     },
     "metadata": {},
     "output_type": "display_data"
    },
    {
     "data": {
      "image/png": "[encoded data removed]",
      "text/plain": [
       "plot without title"
      ]
     },
     "metadata": {},
     "output_type": "display_data"
    }
   ],
   "source": [
    "# If you use too few bins, the histogram doesn't really portray the data very well. \n",
    "# If you have too many bins, you get a broken comb look, which also doesn't give a sense of the distribution.\n",
    "# https://stats.stackexchange.com/questions/798/calculating-optimal-number-of-bins-in-a-histogram#862\n",
    "# applying the Freedman-Diaconis for finding optimal number of bins\n",
    "# In statistics, the Freedman–Diaconis rule can be used to select the size of the bins to be used in a histogram.\n",
    "# https://en.wikipedia.org/wiki/Freedman%E2%80%93Diaconis_rule\n",
    "\n",
    "Freedman_Diaconis <- function (x) \n",
    "{\n",
    "    h <- stats::IQR(x)\n",
    "    if (h == 0) \n",
    "        h <- stats::mad(x, constant = 2)\n",
    "    if (h > 0) \n",
    "        ceiling(diff(range(x))/(2 * h * length(x)^(-1/3)))\n",
    "    else 1L\n",
    "}\n",
    "        \n",
    "number_of_bins_score_1 <- Freedman_Diaconis(evals$score)\n",
    "paste(\"Freedman Diaconis rule for teaching scores version 1: \", number_of_bins_score_1)\n",
    "\n",
    "x_score =evals$score\n",
    "\n",
    "number_of_bins_score_2 <- diff(range(x_score)) / (2 * IQR(x_score) / length(x_score)^(1/3))\n",
    "paste(\"Freedman Diaconis rule for teaching scores version 1: \", number_of_bins_score_2)\n",
    "\n",
    "evals %>%\n",
    "ggplot(aes(x=score)) +\n",
    "geom_histogram(color=\"red\", size=0.8, fill=\"green\", bins = number_of_bins_score_1, aes(y =..density..) ) +\n",
    "labs(x=\"Teaching_Scores\", y=\"Count\")+\n",
    "stat_function(fun = dnorm, args = list(mean = mean(evals$score), sd = sd(evals$score)), color=\"black\", size=1.5)+\n",
    "geom_text(aes(x=3.3, label=\"Normal Distribution\", y=0.5), colour=\"black\", angle=0, size=4)+\n",
    "geom_vline(xintercept=4.5-0.01, linetype=\"solid\", size=1.5, color=\"blue\")+\n",
    "geom_text(aes(x=4.7, label=\"Median\", y=0.83), colour=\"blue\", angle=0, size=4)+\n",
    "geom_vline(xintercept=4.175, linetype=\"solid\", size=1.5, color=\"red\")+\n",
    "geom_text(aes(x=4.0, label=\"Mean\", y=0.78), size=4, colour=\"red\")\n",
    "        \n",
    "# distribution is left-skewed\n",
    "# tail on the left\n",
    "# mode > median > mean\n",
    "# Transformations?\n",
    "# https://www.analyticsvidhya.com/blog/2016/01/guide-data-exploration/\n",
    "# https://stats.stackexchange.com/questions/88218/transforming-extremely-skewed-distributions\n",
    "# https://www.isixsigma.com/tools-templates/normality/tips-recognizing-and-transforming-non-normal-data/"
   ]
  },
  {
   "cell_type": "markdown",
   "metadata": {},
   "source": [
    "#### Trying out normalizing the data with different transformations\n",
    "\n",
    "<p>\n",
    "http://rcompanion.org/handbook/I_12.html\n",
    "</p>"
   ]
  },
  {
   "cell_type": "code",
   "execution_count": 20,
   "metadata": {},
   "outputs": [
    {
     "data": {
      "image/png": "[encoded data removed]",
      "text/plain": [
       "plot without title"
      ]
     },
     "metadata": {},
     "output_type": "display_data"
    }
   ],
   "source": [
    "# square root transformation\n",
    "number_of_bins_score_sqrt <- Freedman_Diaconis(sqrt(evals$score))\n",
    "x_score_sqrt = sqrt(evals$score)\n",
    "evals %>%\n",
    "ggplot(aes(x=sqrt(score))) +\n",
    "geom_histogram(color=\"red\", size=0.8, fill=\"lightblue\", bins = number_of_bins_score_sqrt, aes(y =..density..)  ) +\n",
    "labs(x=\"Teaching_Scores\", y=\"Count\")+\n",
    "stat_function(fun = dnorm, args = list(mean = mean(x_score_sqrt), sd = sd(x_score_sqrt)), color=\"black\", size=1.5)"
   ]
  },
  {
   "cell_type": "code",
   "execution_count": 21,
   "metadata": {},
   "outputs": [
    {
     "data": {
      "image/png": "[encoded data removed]",
      "text/plain": [
       "plot without title"
      ]
     },
     "metadata": {},
     "output_type": "display_data"
    }
   ],
   "source": [
    "\n",
    "score_cube <- sign(evals$score) * abs(evals$score)^(1/3)\n",
    "\n",
    "number_of_bins_score_sqrt <- Freedman_Diaconis(score_cube)\n",
    "\n",
    "evals %>%\n",
    "ggplot(aes(x=score_cube)) +\n",
    "geom_histogram(color=\"red\", size=0.8, fill=\"yellow\", bins = number_of_bins_score_sqrt, aes(y=..density..)  ) +\n",
    "labs(x=\"Teaching_Scores\", y=\"Count\")+\n",
    "stat_function(fun = dnorm, args = list(mean = mean(score_cube), sd = sd(score_cube)), color=\"black\", size=1.5)\n",
    "\n",
    " "
   ]
  },
  {
   "cell_type": "code",
   "execution_count": 22,
   "metadata": {},
   "outputs": [
    {
     "data": {
      "text/html": [
       "<table>\n",
       "<thead><tr><th scope=col>Primary</th><th scope=col>Cube.Transformed</th><th scope=col>Reversed</th></tr></thead>\n",
       "<tbody>\n",
       "\t<tr><td>4.7     </td><td>1.675069</td><td>4.7     </td></tr>\n",
       "\t<tr><td>4.1     </td><td>1.600521</td><td>4.1     </td></tr>\n",
       "\t<tr><td>3.9     </td><td>1.574061</td><td>3.9     </td></tr>\n",
       "\t<tr><td>4.8     </td><td>1.686865</td><td>4.8     </td></tr>\n",
       "\t<tr><td>4.6     </td><td>1.663103</td><td>4.6     </td></tr>\n",
       "\t<tr><td>4.3     </td><td>1.626133</td><td>4.3     </td></tr>\n",
       "</tbody>\n",
       "</table>\n"
      ],
      "text/latex": [
       "\\begin{tabular}{r|lll}\n",
       " Primary & Cube.Transformed & Reversed\\\\\n",
       "\\hline\n",
       "\t 4.7      & 1.675069 & 4.7     \\\\\n",
       "\t 4.1      & 1.600521 & 4.1     \\\\\n",
       "\t 3.9      & 1.574061 & 3.9     \\\\\n",
       "\t 4.8      & 1.686865 & 4.8     \\\\\n",
       "\t 4.6      & 1.663103 & 4.6     \\\\\n",
       "\t 4.3      & 1.626133 & 4.3     \\\\\n",
       "\\end{tabular}\n"
      ],
      "text/markdown": [
       "\n",
       "| Primary | Cube.Transformed | Reversed |\n",
       "|---|---|---|\n",
       "| 4.7      | 1.675069 | 4.7      |\n",
       "| 4.1      | 1.600521 | 4.1      |\n",
       "| 3.9      | 1.574061 | 3.9      |\n",
       "| 4.8      | 1.686865 | 4.8      |\n",
       "| 4.6      | 1.663103 | 4.6      |\n",
       "| 4.3      | 1.626133 | 4.3      |\n",
       "\n"
      ],
      "text/plain": [
       "  Primary Cube.Transformed Reversed\n",
       "1 4.7     1.675069         4.7     \n",
       "2 4.1     1.600521         4.1     \n",
       "3 3.9     1.574061         3.9     \n",
       "4 4.8     1.686865         4.8     \n",
       "5 4.6     1.663103         4.6     \n",
       "6 4.3     1.626133         4.3     "
      ]
     },
     "metadata": {},
     "output_type": "display_data"
    }
   ],
   "source": [
    "# Square root transformation\n",
    "# Cube root t = x^(1/3)\n",
    "# Reverse the square cube transformation\n",
    "# the undoing of a log transformation is done with the reverse of 10^x\n",
    "# cube x = t^3\n",
    "# score_cube <- sign(evals$score) * abs(evals$score)^(1/3)\n",
    "# More information: http://fmwww.bc.edu/repec/bocode/t/transint.html\n",
    "\n",
    "square_cube_inverse <- score_cube^3\n",
    "\n",
    "cube_comparisons <- \n",
    "data.frame(\"Primary\"=evals$score, \"Cube Transformed\"=score_cube, \"Reversed\"=square_cube_inverse)\n",
    "\n",
    "head(cube_comparisons)\n",
    "\n"
   ]
  },
  {
   "cell_type": "code",
   "execution_count": 23,
   "metadata": {},
   "outputs": [
    {
     "data": {
      "text/html": [
       "<ol class=list-inline>\n",
       "\t<li>'ID'</li>\n",
       "\t<li>'score'</li>\n",
       "\t<li>'age'</li>\n",
       "\t<li>'bty_avg'</li>\n",
       "\t<li>'gender'</li>\n",
       "\t<li>'ethnicity'</li>\n",
       "\t<li>'language'</li>\n",
       "\t<li>'rank'</li>\n",
       "\t<li>'pic_outfit'</li>\n",
       "\t<li>'pic_color'</li>\n",
       "\t<li>'cls_did_eval'</li>\n",
       "\t<li>'cls_students'</li>\n",
       "\t<li>'cls_level'</li>\n",
       "\t<li>'LogTransformed_Scores'</li>\n",
       "</ol>\n"
      ],
      "text/latex": [
       "\\begin{enumerate*}\n",
       "\\item 'ID'\n",
       "\\item 'score'\n",
       "\\item 'age'\n",
       "\\item 'bty\\_avg'\n",
       "\\item 'gender'\n",
       "\\item 'ethnicity'\n",
       "\\item 'language'\n",
       "\\item 'rank'\n",
       "\\item 'pic\\_outfit'\n",
       "\\item 'pic\\_color'\n",
       "\\item 'cls\\_did\\_eval'\n",
       "\\item 'cls\\_students'\n",
       "\\item 'cls\\_level'\n",
       "\\item 'LogTransformed\\_Scores'\n",
       "\\end{enumerate*}\n"
      ],
      "text/markdown": [
       "1. 'ID'\n",
       "2. 'score'\n",
       "3. 'age'\n",
       "4. 'bty_avg'\n",
       "5. 'gender'\n",
       "6. 'ethnicity'\n",
       "7. 'language'\n",
       "8. 'rank'\n",
       "9. 'pic_outfit'\n",
       "10. 'pic_color'\n",
       "11. 'cls_did_eval'\n",
       "12. 'cls_students'\n",
       "13. 'cls_level'\n",
       "14. 'LogTransformed_Scores'\n",
       "\n",
       "\n"
      ],
      "text/plain": [
       " [1] \"ID\"                    \"score\"                 \"age\"                  \n",
       " [4] \"bty_avg\"               \"gender\"                \"ethnicity\"            \n",
       " [7] \"language\"              \"rank\"                  \"pic_outfit\"           \n",
       "[10] \"pic_color\"             \"cls_did_eval\"          \"cls_students\"         \n",
       "[13] \"cls_level\"             \"LogTransformed_Scores\""
      ]
     },
     "metadata": {},
     "output_type": "display_data"
    },
    {
     "data": {
      "image/png": "[encoded data removed]",
      "text/plain": [
       "plot without title"
      ]
     },
     "metadata": {},
     "output_type": "display_data"
    }
   ],
   "source": [
    "score_log <- log10(evals$score)\n",
    "number_of_bins_score_log <- Freedman_Diaconis(score_log)\n",
    "\n",
    "\n",
    "\n",
    "evals_LogTransformed_Scores <- \n",
    "evals %>% mutate(LogTransformed_Scores=score_log)\n",
    "names(evals_LogTransformed_Scores )\n",
    "\n",
    "LogTransformed_Scores_vector <- \n",
    "evals_LogTransformed_Scores$LogTransformed_Scores\n",
    "\n",
    "evals_LogTransformed_Scores %>%\n",
    "ggplot(aes(x=LogTransformed_Scores)) +\n",
    "geom_histogram(color=\"red\", size=0.8, fill=\"pink\", bins = number_of_bins_score_log, aes(y=..density..) ) +\n",
    "geom_density(color=\"green\", size=0.8)+\n",
    "labs(x=\"Teaching_Scores\", y=\"Count\")+\n",
    "stat_function(fun = dnorm, args = list(mean = mean(LogTransformed_Scores_vector), sd = sd(LogTransformed_Scores_vector)),\n",
    "              color=\"black\", size=1.5)+ geom_density()\n",
    "\n",
    "\n"
   ]
  },
  {
   "cell_type": "code",
   "execution_count": 24,
   "metadata": {},
   "outputs": [
    {
     "data": {
      "text/html": [
       "<table>\n",
       "<thead><tr><th scope=col>Logarithms.of.score.by.basis.10</th><th scope=col>Logarithms.reversed.by.exponentiation</th><th scope=col>Original.values</th></tr></thead>\n",
       "<tbody>\n",
       "\t<tr><td>0.6720979</td><td>4.7      </td><td>4.7      </td></tr>\n",
       "\t<tr><td>0.6127839</td><td>4.1      </td><td>4.1      </td></tr>\n",
       "\t<tr><td>0.5910646</td><td>3.9      </td><td>3.9      </td></tr>\n",
       "\t<tr><td>0.6812412</td><td>4.8      </td><td>4.8      </td></tr>\n",
       "\t<tr><td>0.6627578</td><td>4.6      </td><td>4.6      </td></tr>\n",
       "\t<tr><td>0.6334685</td><td>4.3      </td><td>4.3      </td></tr>\n",
       "</tbody>\n",
       "</table>\n"
      ],
      "text/latex": [
       "\\begin{tabular}{r|lll}\n",
       " Logarithms.of.score.by.basis.10 & Logarithms.reversed.by.exponentiation & Original.values\\\\\n",
       "\\hline\n",
       "\t 0.6720979 & 4.7       & 4.7      \\\\\n",
       "\t 0.6127839 & 4.1       & 4.1      \\\\\n",
       "\t 0.5910646 & 3.9       & 3.9      \\\\\n",
       "\t 0.6812412 & 4.8       & 4.8      \\\\\n",
       "\t 0.6627578 & 4.6       & 4.6      \\\\\n",
       "\t 0.6334685 & 4.3       & 4.3      \\\\\n",
       "\\end{tabular}\n"
      ],
      "text/markdown": [
       "\n",
       "| Logarithms.of.score.by.basis.10 | Logarithms.reversed.by.exponentiation | Original.values |\n",
       "|---|---|---|\n",
       "| 0.6720979 | 4.7       | 4.7       |\n",
       "| 0.6127839 | 4.1       | 4.1       |\n",
       "| 0.5910646 | 3.9       | 3.9       |\n",
       "| 0.6812412 | 4.8       | 4.8       |\n",
       "| 0.6627578 | 4.6       | 4.6       |\n",
       "| 0.6334685 | 4.3       | 4.3       |\n",
       "\n"
      ],
      "text/plain": [
       "  Logarithms.of.score.by.basis.10 Logarithms.reversed.by.exponentiation\n",
       "1 0.6720979                       4.7                                  \n",
       "2 0.6127839                       4.1                                  \n",
       "3 0.5910646                       3.9                                  \n",
       "4 0.6812412                       4.8                                  \n",
       "5 0.6627578                       4.6                                  \n",
       "6 0.6334685                       4.3                                  \n",
       "  Original.values\n",
       "1 4.7            \n",
       "2 4.1            \n",
       "3 3.9            \n",
       "4 4.8            \n",
       "5 4.6            \n",
       "6 4.3            "
      ]
     },
     "metadata": {},
     "output_type": "display_data"
    }
   ],
   "source": [
    "# Reverse the log transformation\n",
    "# the undoing of a log transformation is done with the reverse of 10^x\n",
    "score_log_undone <- 10^(score_log)\n",
    "\n",
    "\n",
    "compare_score_logs <- data.frame(\"Logarithms of score by basis 10\"= score_log, \n",
    "                                 \"Logarithms reversed by exponentiation\"= score_log_undone,\n",
    "                                \"Original values\"= evals$score)\n",
    "\n",
    "head(compare_score_logs)"
   ]
  },
  {
   "cell_type": "code",
   "execution_count": 25,
   "metadata": {},
   "outputs": [
    {
     "name": "stderr",
     "output_type": "stream",
     "text": [
      "Installing package into 'C:/Users/gamarandor/Documents/R/win-library/3.5'\n",
      "(as 'lib' is unspecified)\n"
     ]
    },
    {
     "name": "stdout",
     "output_type": "stream",
     "text": [
      "package 'rcompanion' successfully unpacked and MD5 sums checked\n",
      "\n",
      "The downloaded binary packages are in\n",
      "\tC:\\Users\\gamarandor\\AppData\\Local\\Temp\\RtmpYvqPBM\\downloaded_packages\n"
     ]
    }
   ],
   "source": [
    "library(utils)\n",
    "\n",
    "\n",
    "install.packages(\"rcompanion\", repos='http://cran.us.r-project.org', dependencies=TRUE)\n",
    "\n"
   ]
  },
  {
   "cell_type": "code",
   "execution_count": 26,
   "metadata": {},
   "outputs": [
    {
     "name": "stderr",
     "output_type": "stream",
     "text": [
      "Installing package into 'C:/Users/gamarandor/Documents/R/win-library/3.5'\n",
      "(as 'lib' is unspecified)\n"
     ]
    },
    {
     "name": "stdout",
     "output_type": "stream",
     "text": [
      "package 'mvtnorm' successfully unpacked and MD5 sums checked\n"
     ]
    },
    {
     "name": "stderr",
     "output_type": "stream",
     "text": [
      "Warning message:\n",
      "\"cannot remove prior installation of package 'mvtnorm'\""
     ]
    },
    {
     "name": "stdout",
     "output_type": "stream",
     "text": [
      "\n",
      "The downloaded binary packages are in\n",
      "\tC:\\Users\\gamarandor\\AppData\\Local\\Temp\\RtmpYvqPBM\\downloaded_packages\n"
     ]
    }
   ],
   "source": [
    "install.packages('mvtnorm', repos='http://cran.us.r-project.org', dependencies=TRUE)"
   ]
  },
  {
   "cell_type": "markdown",
   "metadata": {},
   "source": [
    "#### Power transform\n",
    "<p>\n",
    "In statistics, a power transform is a family of functions that are applied to create \n",
    "a monotonic transformation of data using power functions. This is a useful data transformation technique \n",
    "used to stabilize variance, make the data more normal distribution-like, improve the validity of measures of association such as the Pearson correlation between variables and for \n",
    "other data stabilization procedures. \n",
    "</p>\n",
    "<a href=\"https://en.wikipedia.org/wiki/Power_transform\",  target=\"_blank\">Wikipedia</p>"
   ]
  },
  {
   "cell_type": "code",
   "execution_count": 27,
   "metadata": {},
   "outputs": [
    {
     "name": "stderr",
     "output_type": "stream",
     "text": [
      "Warning message:\n",
      "\"package 'rcompanion' was built under R version 3.5.3\""
     ]
    },
    {
     "ename": "ERROR",
     "evalue": "Error: package or namespace load failed for 'rcompanion' in loadNamespace(j <- i[[1L]], c(lib.loc, .libPaths()), versionCheck = vI[[j]]):\n there is no package called 'mvtnorm'\n",
     "output_type": "error",
     "traceback": [
      "Error: package or namespace load failed for 'rcompanion' in loadNamespace(j <- i[[1L]], c(lib.loc, .libPaths()), versionCheck = vI[[j]]):\n there is no package called 'mvtnorm'\nTraceback:\n",
      "1. library(\"rcompanion\")",
      "2. tryCatch({\n .     attr(package, \"LibPath\") <- which.lib.loc\n .     ns <- loadNamespace(package, lib.loc)\n .     env <- attachNamespace(ns, pos = pos, deps)\n . }, error = function(e) {\n .     P <- if (!is.null(cc <- conditionCall(e))) \n .         paste(\" in\", deparse(cc)[1L])\n .     else \"\"\n .     msg <- gettextf(\"package or namespace load failed for %s%s:\\n %s\", \n .         sQuote(package), P, conditionMessage(e))\n .     if (logical.return) \n .         message(paste(\"Error:\", msg), domain = NA)\n .     else stop(msg, call. = FALSE, domain = NA)\n . })",
      "3. tryCatchList(expr, classes, parentenv, handlers)",
      "4. tryCatchOne(expr, names, parentenv, handlers[[1L]])",
      "5. value[[3L]](cond)",
      "6. stop(msg, call. = FALSE, domain = NA)"
     ]
    }
   ],
   "source": [
    "# Tukey’s Ladder of Powers transformation\n",
    "\n",
    "\n",
    "library(\"rcompanion\")\n",
    "library(MASS)\n",
    "score_T_tuk_score = transformTukey(evals$score, plotit=FALSE)\n",
    "score_T_tuk_score[1:10]\n",
    "\n",
    "\n",
    "number_of_bins_score_log <- Freedman_Diaconis(score_T_tuk_score)\n",
    "number_of_bins_score_log\n",
    "\n",
    "evals %>%\n",
    "ggplot(aes(x=score_T_tuk_score)) +\n",
    "geom_histogram(color=\"black\", size=0.8, fill=\"lightgreen\", bins = number_of_bins_score_log, aes(y=..density..) ) +\n",
    "labs(x=\"Teaching_Scores\", y=\"Count\")+\n",
    "stat_function(fun = dnorm, args = list(mean = mean(score_T_tuk_score), sd = sd(score_T_tuk_score)), color=\"black\", size=1.5)"
   ]
  },
  {
   "cell_type": "code",
   "execution_count": null,
   "metadata": {},
   "outputs": [],
   "source": [
    "Box = boxcox(evals$score ~ 1,            \n",
    "             lambda = seq(-6,6,0.1)      # Try values -6 to 6 by 0.1\n",
    "             )"
   ]
  },
  {
   "cell_type": "code",
   "execution_count": null,
   "metadata": {},
   "outputs": [],
   "source": [
    "Cox = data.frame(Box$x, Box$y) \n",
    "# Order the new data frame by decreasing y\n",
    "Cox2 = Cox[with(Cox, order(-Cox$Box.y)),]\n",
    "#    log likelihood\n",
    "Cox2[1,] \n",
    "# Extract that lambda\n",
    "lambda = Cox2[1, \"Box.x\"]   \n",
    " # Transform the original data\n",
    "Score_box = (evals$score^ lambda - 1)/lambda  \n",
    "Score_box[1:5]"
   ]
  },
  {
   "cell_type": "code",
   "execution_count": null,
   "metadata": {},
   "outputs": [],
   "source": [
    "evals_Cox <-\n",
    "evals %>% mutate(Score_box=Score_box)\n",
    "\n",
    "\n",
    "evals_Cox %>%\n",
    "ggplot(aes(x=Score_box)) +\n",
    "geom_histogram(color=\"black\", size=0.8, fill=\"brown\", bins = number_of_bins_score_log, aes(y=..density..) ) +\n",
    "labs(x=\"Teaching_Scores\", y=\"Count\")+\n",
    "stat_function(fun = dnorm, args = list(mean = mean(Score_box), sd = sd(Score_box)), color=\"black\", size=1.5)"
   ]
  },
  {
   "cell_type": "markdown",
   "metadata": {},
   "source": [
    "#### Compute summary statistics of teaching scores"
   ]
  },
  {
   "cell_type": "code",
   "execution_count": null,
   "metadata": {},
   "outputs": [],
   "source": [
    "\n",
    "evals %>%\n",
    "summarize(mean_score=mean(score),\n",
    "          median_score=median(score),\n",
    "          standard_deviation_score=sd(score),\n",
    "          maximum=max(score),\n",
    "          minimum=min(score))"
   ]
  },
  {
   "cell_type": "markdown",
   "metadata": {},
   "source": [
    "#### Univariate EDA of the age variable"
   ]
  },
  {
   "cell_type": "code",
   "execution_count": null,
   "metadata": {},
   "outputs": [],
   "source": [
    "#  Look at the data age of professor\n",
    "\n",
    "glimpse(evals$age)\n",
    "unique(evals$age)\n",
    "class(evals$age)\n",
    "table(evals$age)"
   ]
  },
  {
   "cell_type": "code",
   "execution_count": null,
   "metadata": {},
   "outputs": [],
   "source": [
    "# Age of professor\n",
    "unique(evals$age)\n",
    "number_of_bins_score_age <- Freedman_Diaconis(evals$age)\n",
    "paste(\"Freedman Diaconis rule for teaching scores version 1: \", number_of_bins_score_age)\n",
    "length_age <- length(evals$age)\n",
    "length_age\n",
    "evals %>%\n",
    "ggplot(aes(x=age)) +\n",
    "geom_histogram(color=\"red\", size=0.8, fill=\"gold\", bins = number_of_bins_score_age, aes(y=..density..) ) +\n",
    "labs(x=\"Age\", y=\"Count\")+\n",
    "stat_function(fun=dnorm, args=list(mean=mean(evals$age), sd=sd(evals$age)), color=\"black\", size=1.5)\n"
   ]
  },
  {
   "cell_type": "code",
   "execution_count": null,
   "metadata": {},
   "outputs": [],
   "source": [
    "# Summary statistics\n",
    "\n",
    "evals %>%\n",
    "summarize(mean_score=mean(age),\n",
    "          median_score=median(age),\n",
    "          standard_deviation_score=sd(age),\n",
    "          maximum=max(age),\n",
    "          minimum=min(age))"
   ]
  },
  {
   "cell_type": "markdown",
   "metadata": {},
   "source": [
    "#### Bivariate EDA of the relationship between age and teaching scores"
   ]
  },
  {
   "cell_type": "code",
   "execution_count": null,
   "metadata": {},
   "outputs": [],
   "source": [
    "ggplot(evals, aes(x=age, y=score)) +\n",
    "geom_point(color=\"violet\", alpha=0.5, na.rm=TRUE)+\n",
    "labs(x=\"Age\", y=\"Teaching Scores\", title=\"Age over teaching scores\")\n",
    "# Is there a relationship between age and teaching scores?\n",
    "# No, the data points are evenly distributed"
   ]
  },
  {
   "cell_type": "code",
   "execution_count": null,
   "metadata": {},
   "outputs": [],
   "source": [
    "# Overplotting?\n",
    "ggplot(evals, aes(x=age, y=score)) +\n",
    "geom_jitter(color=\"violet\", alpha=0.5, na.rm=TRUE)+\n",
    "labs(x=\"Age\", y=\"Teaching Scores\", title=\"Age over teaching scores with geom_jitter\")\n",
    "# Is there a relationship between age and teaching scores?\n",
    "# No, it seems the data points are evenly distributed"
   ]
  },
  {
   "cell_type": "code",
   "execution_count": null,
   "metadata": {},
   "outputs": [],
   "source": [
    "evals %>% summarize(Correlation_age_scores=cor(age, score))\n",
    "# the relationship between age and teaching scores is very weakly negative\n",
    "# the older the lower the teaching scores"
   ]
  },
  {
   "cell_type": "code",
   "execution_count": null,
   "metadata": {},
   "outputs": [],
   "source": [
    "# visualizing the relationship age and teach scores with a regression line\n",
    "# x: age - independent variable\n",
    "# y: score - dependent variable\n",
    "\n",
    "plot_age_score_reg <- \n",
    "evals %>% ggplot(aes(x=age,y=score))+\n",
    "geom_jitter(alpha=0.6, width=0.3, color=\"green\")+\n",
    "geom_smooth(method=\"lm\", se=FALSE, color=\"red\", size=1)+\n",
    "labs(x=\"Age - independent variable\", y=\"Teaching score - dependent variable\")\n",
    "\n",
    "plot_age_score_reg "
   ]
  },
  {
   "cell_type": "code",
   "execution_count": null,
   "metadata": {},
   "outputs": [],
   "source": [
    "# simple linear regression model of the bivariate relationship between age and scores\n",
    "\n",
    "reg_score_age <- \n",
    "lm(score~age, data=evals)\n",
    "\n",
    "reg_score_age\n",
    "summary(reg_score_age)\n",
    "\n",
    "# When age is 0 the beauty score is 4.461932\n",
    "# (given all other variables are not changing)\n",
    "# Meaning every teacher has on average a beauty score of 4.461932 independent of the age\n",
    "# for every unit of age (month) teaching scores decrease by -0.005938\n",
    "# 0-hypothesis: a relationship between teaching score and age exists not\n",
    "# Alternative hypothesis: a relationship between teaching score and age exists\n",
    "# Given a significant level of 0.05 and a p-value below of 0.0213\n",
    "# age influences the teaching scores\n",
    "# The 0-hypothesis is rejected, and the alternative hypothesis is not rejected\n",
    "# the slope of age is with -0.005938 slightly negative\n",
    "# Assumption: as age increases scores decrease"
   ]
  },
  {
   "cell_type": "code",
   "execution_count": null,
   "metadata": {},
   "outputs": [],
   "source": [
    "# using get_regression_table from moderndive instead of summary\n",
    "get_regression_table(reg_score_age)"
   ]
  },
  {
   "cell_type": "markdown",
   "metadata": {},
   "source": [
    "#### Building regression models and using metrics (rmse, RSS and R-squared) for model assesment"
   ]
  },
  {
   "cell_type": "code",
   "execution_count": null,
   "metadata": {},
   "outputs": [],
   "source": [
    "# regression model: reg_score_age\n",
    "# predict teaching score with the model\n",
    "# model: independent variable is age, dependent variable is teaching score\n",
    "# building a linear regression models means finding the explanatory and response variables\n",
    "\n",
    "pred_score_age <-\n",
    "predict(reg_score_age)\n",
    "\n",
    "# Residual = Observed value - Predicted value \n",
    "df_model_score_age <- \n",
    "data.frame(Actual_teaching_scores=evals$score, \n",
    "           Predicted_scores=pred_score_age\n",
    "           )%>% \n",
    "mutate(Residuals=Actual_teaching_scores-Predicted_scores)\n",
    "\n",
    "\n",
    "head(df_model_score_age)\n",
    "glimpse(df_model_score_age)\n",
    "\n",
    "# Creating a similar table with get_regression\n",
    "head(get_regression_points(reg_score_age))\n"
   ]
  },
  {
   "cell_type": "code",
   "execution_count": null,
   "metadata": {},
   "outputs": [],
   "source": [
    "\n",
    "# Model assesment\n",
    "\n",
    "rmse_scores_age <- \n",
    "rmse(df_model_score_age$Actual_teaching_scores, df_model_score_age$Predicted_scores )\n",
    "\n",
    "paste(\"Root Mean Square Error (of the simple linear regression model predicting teaching scores with age): \", \n",
    "      round(rmse_scores_age, 2))\n",
    "\n",
    "\n",
    "# Interpretation: on average every prediction of a teaching score has a difference of 0.54 teaching scores\n",
    "# from the actual teaching score.\n",
    "\n",
    "\n",
    "\n",
    "# Sum of residuals squared\n",
    "\n",
    "RSS_reg_score_age <-\n",
    "get_regression_points(reg_score_age)  %>% mutate(RS=residual^2) %>% summarize(RSS=sum(RS))\n",
    "\n",
    "paste(\"RSS: \", RSS_reg_score_age)\n",
    "\n",
    "\n",
    "\n",
    "R_squared_reg_model_price_yr_calculated <- 1- RSS_reg_model_price_yr_sf / TSS_squared_reg_model_price_yr \n",
    "\n",
    "# TSS_squared_reg_model_price_yr <-  sum((housesales_none_33$log10_prices - mean(housesales_none_33$log10_prices))^2)\n",
    "TSS_evals_scores <- sum((evals$score  - mean(evals$score ))^2)\n",
    "\n",
    "R_squared_evals_scores_age <-\n",
    "1- RSS_reg_score_age / TSS_evals_scores\n",
    "\n",
    "paste(\"R-squared_adjusted_extracted: \", summary(reg_score_age)$adj.r.squared)\n",
    "paste(\"R-squared_calculated: \", R_squared_evals_scores_age)\n",
    "\n",
    "summary(reg_score_age)\n"
   ]
  },
  {
   "cell_type": "markdown",
   "metadata": {},
   "source": [
    "#### Writing two functions calculating RSS and R-squared"
   ]
  },
  {
   "cell_type": "code",
   "execution_count": null,
   "metadata": {},
   "outputs": [],
   "source": [
    "# Calculating two functions\n",
    "\n",
    "\n",
    "# Writing a function calculating the Residual Sum of Square\n",
    "\n",
    "    \n",
    "RSS_calc_fun <-  function(regression_model) {\n",
    "    \n",
    "    \n",
    "    RSS <- get_regression_points(regression_model)  %>% mutate(RS=residual^2) %>% summarize(RSS=sum(RS))\n",
    "    # Sum of residuals squared\n",
    "    RSS <- as.numeric(RSS)\n",
    "    return(RSS)\n",
    "\n",
    "} \n",
    "\n",
    "RSS_reg_score_age_fun <- \n",
    "RSS_calc_fun(regression_model=reg_score_age)\n",
    "class(RSS_reg_score_age_fun)\n",
    "RSS_reg_score_age_fun \n",
    "\n",
    "\n",
    "paste(\"RSS: \", RSS_calc_fun(regression_model=reg_score_age))\n",
    "\n",
    "# Writing a function calculating the R-squared\n",
    "\n",
    "R_squared_calc <- function(regression_model, dependent_variable){\n",
    "    \n",
    "    RSS <- get_regression_points(regression_model)  %>% mutate(RS=residual^2) %>% summarize(RSS=sum(RS))\n",
    "    \n",
    "    RSS <- as.numeric(RSS)\n",
    "    # Total sum of square\n",
    "    Deviation_Mean <- (dependent_variable - mean(dependent_variable))^2\n",
    "    TSS <- sum(Deviation_Mean)\n",
    "    \n",
    "    R_squared <- 1- RSS / TSS\n",
    "    \n",
    "    return(R_squared)\n",
    "}\n",
    "\n",
    "R_squared_reg_score_age <-\n",
    "R_squared_calc(regression_model=reg_score_age, dependent_variable=evals$score)\n",
    "\n",
    "paste(\"R-Squared: \", R_squared_reg_score_age)"
   ]
  },
  {
   "cell_type": "code",
   "execution_count": null,
   "metadata": {},
   "outputs": [],
   "source": [
    "reg_model_score_bty <- lm(score~bty_avg, data=evals)\n",
    "get_regression_table(reg_model_score_bty)\n",
    "\n",
    "# predict values with equation\n",
    "# bty_average = 4\n",
    "pred_bty_average_4 = 3.880 + 0.067*4\n",
    "pred_bty_average_4\n",
    "\n",
    "# predict values with equation over byt_avg column\n",
    "get_regression_points(reg_model_score_bty ) %>%\n",
    "mutate(score_hat_2 = 3.88 + 0.067 * bty_avg) %>%\n",
    "head()\n",
    "\n",
    "pred_reg_model_score_bty  <-  predict(reg_model_score_bty)\n",
    "rmse(evals$score,pred_reg_model_score_bty )"
   ]
  },
  {
   "cell_type": "code",
   "execution_count": null,
   "metadata": {},
   "outputs": [],
   "source": [
    "# visualizing the relationship age and teach scores with a regression line\n",
    "# x: age - independent variable\n",
    "# y: score - dependent variable\n",
    "# group by beauty scores\n",
    "\n",
    "plot_age_score_reg_by_beauty <- \n",
    "evals %>% ggplot(aes(x=age,y=score, color=bty_avg))+\n",
    "geom_jitter(alpha=0.6, width=0.3)+\n",
    "geom_smooth(method=\"lm\", se=FALSE, color=\"red\", size=1.5)+\n",
    "scale_color_gradient( low = \"red\", high = \"yellow\")\n",
    "\n",
    "plot_age_score_reg_by_beauty"
   ]
  },
  {
   "cell_type": "code",
   "execution_count": null,
   "metadata": {},
   "outputs": [],
   "source": [
    "reg_score_age_beauty <- \n",
    "lm(score ~ age + bty_avg, data=evals)\n",
    "\n",
    "reg_score_age_beauty\n",
    "get_regression_table(reg_score_age_beauty)\n",
    "summary(reg_score_age_beauty)\n",
    "\n",
    "# forr every increase in unit of beauty average teaching scores are increasing by 0.060656\n",
    "# given all other variables are not changing\n",
    "# 0-hypothesis: a relationship between teaching score and age exists not\n",
    "# 0-hypothesis: a relationship between teaching score and beauty score exists not\n",
    "# Alternative hypothesis: a relationship between teaching score and age exists\n",
    "# Alternative hypothesis: a relationship between teaching score and beauty score exists\n",
    "# Given a significant level of 0.05 and a p-value below of 0.251396 age influences the teaching scores\n",
    "# Given a significant level of 0.05 and a p-value below of  0.000429 beauty average influences the teaching scores\n",
    "# The 0-hypothesis is rejected, and the alternative hypothesis is not rejected\n",
    "\n",
    "# Are interaction effects ocurring?"
   ]
  },
  {
   "cell_type": "code",
   "execution_count": null,
   "metadata": {},
   "outputs": [],
   "source": [
    "# model: reg_score_age_beauty\n",
    "\n",
    "pred_model_reg_score_age_beauty <-\n",
    "predict(reg_score_age_beauty)\n",
    "\n",
    "df_pred_model_reg_score_age_beauty <- \n",
    "data.frame(Actual_values=evals$score,  Predictions= pred_model_reg_score_age_beauty ) %>%\n",
    "mutate(Residuals = Actual_values-Predictions )\n",
    "\n",
    "head(df_pred_model_reg_score_age_beauty)\n",
    "\n",
    "# Creating a similar table with get_regression\n",
    "head(get_regression_points(reg_score_age))\n",
    "\n",
    "rmse_pred_model_reg_score_age_beauty <- \n",
    "rmse(df_pred_model_reg_score_age_beauty$Actual_values, df_pred_model_reg_score_age_beauty$Predictions)\n",
    "\n",
    "\n",
    "paste(\"Root Mean Square Error of the simple linear regression model predicting teaching scores with age and beauty: \", \n",
    "      round(rmse_pred_model_reg_score_age_beauty, 2))\n",
    "\n",
    "# Conclusion: this model delivers an improved rmse of 0.53\n",
    "# 0.1 better than the model only based on age\n"
   ]
  },
  {
   "cell_type": "code",
   "execution_count": null,
   "metadata": {},
   "outputs": [],
   "source": [
    "# Making predictions with new data\n",
    "\n",
    "reg_score_age_beauty <- \n",
    "lm(score ~ age + bty_avg, data=evals)\n",
    "\n",
    "evals %>% summarize(Minbty_avgimum_age = min(age),\n",
    "                    Maximum_age=max(age))\n",
    "\n",
    "evals %>% summarize(Minimum_bty_avg = min(bty_avg),\n",
    "                    Maximum_bty_avg=max(bty_avg))\n",
    "\n",
    "# Generate random data within the boundaries given by observed min and max\n",
    "random_age <-\n",
    "floor(runif(10, min=29, max=74))\n",
    "\n",
    "random_beatuy <-\n",
    "runif(10, min=1.6, max=8.2)\n",
    "\n",
    "new_data_67563 <-\n",
    "data_frame(age=random_age,\n",
    "           bty_avg=random_beatuy)\n",
    "\n",
    "dim(new_data_67563)\n",
    "\n",
    "\n",
    "predict_age_beauty_nd <-\n",
    "predict(reg_score_age_beauty, newdata=new_data_67563 )\n",
    "length(predict_age_beauty_nd)\n",
    "\n",
    "predict_age_beauty_nd_absolute <-\n",
    "10^predict_age_beauty_nd \n",
    "length(predict_age_beauty_nd_absolute )\n",
    "\n",
    "predict_age_beauty_nd_df <-\n",
    "cbind(new_data_67563 , predict_age_beauty_nd, predict_age_beauty_nd_absolute)\n",
    "\n",
    "predict_age_beauty_nd_df\n"
   ]
  },
  {
   "cell_type": "code",
   "execution_count": null,
   "metadata": {},
   "outputs": [],
   "source": [
    "reg_score_age_beauty_interaction <- \n",
    "lm(score ~ age * bty_avg, data=evals)\n",
    "\n",
    "get_regression_table(reg_score_age_beauty_interaction )\n",
    "reg_score_age_beauty_interaction \n",
    "summary(reg_score_age_beauty_interaction )\n",
    "\n",
    "# An interaction effect between beauty average and age exists\n",
    "# Assumptions:\n",
    "# A age increases beauty decreases and then teaching scores decrease\n",
    "# While this is assumed, beauty average remains a variable with influence\n",
    "# Conclusion: the interaction effect between beauty average and age should be\n",
    "# included in the model, but also beauty average as an independent variable"
   ]
  },
  {
   "cell_type": "code",
   "execution_count": null,
   "metadata": {},
   "outputs": [],
   "source": [
    "# reg_score_age_beauty_interaction\n",
    "\n",
    "pred_reg_score_age_beauty_interaction <-\n",
    "predict(reg_score_age_beauty_interaction)\n",
    "\n",
    "df_model_reg_score_age_beauty_interaction <-\n",
    "data.frame(Actual=evals$score, Predictions=pred_reg_score_age_beauty_interaction)%>%\n",
    "mutate(Residuals=Actual-Predictions)\n",
    "\n",
    "head(df_model_reg_score_age_beauty_interaction )\n",
    "head(get_regression_points(reg_score_age_beauty_interaction))\n",
    "\n",
    "rmse_df_model_reg_score_age_beauty_interaction <-\n",
    "rmse(df_model_reg_score_age_beauty_interaction$Actual,\n",
    "     df_model_reg_score_age_beauty_interaction$Predictions)\n",
    "\n",
    "paste(\"Root Mean Square Error of the simple linear regression model predicting teaching scores with age and beauty considering interaction effects: \", \n",
    "      round(rmse_df_model_reg_score_age_beauty_interaction, 2))\n",
    "\n",
    "# Considering interaction effects did not improve the model"
   ]
  },
  {
   "cell_type": "markdown",
   "metadata": {},
   "source": [
    "#### Categorical variables like gender and rank as predictor variables"
   ]
  },
  {
   "cell_type": "code",
   "execution_count": null,
   "metadata": {},
   "outputs": [],
   "source": [
    "# Investigating the relationship between gender and scores\n",
    "# Boxplot score over gender\n",
    "\n",
    "statistics_scores_by_gender <- \n",
    "evals %>% group_by(gender) %>% summarize(n=n(), \n",
    "                                         Proportions=n/length(evals$gender),\n",
    "                                         Median=median(score), \n",
    "                                         Mean = mean(score),\n",
    "                                         Quantile_25=quantile(score, probs=c(0.25)),\n",
    "                                         Quantile_75=quantile(score, probs=c(0.75)),\n",
    "                                         Standard_Deviation = sd(score),\n",
    "                                         IQR=Quantile_75-Quantile_25\n",
    "                                         )\n",
    "\n",
    "\n",
    "evals %>% ggplot(aes(x=gender, y=score))+\n",
    "geom_boxplot(color=\"red\", size=1, fill=c(\"black\",\"blue\"))+\n",
    "geom_text(x=1, y=4.25, label=paste(\"Median female: \\n4.1 teaching scores\" ), color=\"red\")+\n",
    "geom_text(x=2, y=4.45, label=paste(\"Median male: \\n4.3 teaching scores\" ), color=\"red\")+\n",
    "geom_text(x=0.7, y=3.5, label=paste(\"1.Quantile female: \\n3.7\" ), color=\"black\")+\n",
    "geom_text(x=0.7, y=4.7, label=paste(\"3.Quantile female: \\n4.5\" ), color=\"black\")+\n",
    "geom_text(x=2.3, y=3.7, label=paste(\"1.Quantile male: \\n3.9\" ), color=\"black\")+\n",
    "geom_text(x=2.3, y=4.8, label=paste(\"3.Quantile male: \\n4.6\" ), color=\"black\")\n",
    "\n",
    "statistics_scores_by_gender\n",
    "\n",
    "\n",
    "glimpse(statistics_scores_by_gender)\n",
    "class(statistics_scores_by_gender)\n",
    "statistics_scores_by_gender[1, \"Median\"]\n",
    "length(evals$gender)\n",
    "\n",
    "# mean difference between male and female is the slope of the regression line of score by gender\n",
    "# men teaching scores differ on average by 0.1415078 from women\n",
    "# For every data point men scores are 0.1415078 higher than women scores\n",
    "# In case of categorical variables the group means are the predictions.\n",
    "\n",
    "mean_difference <- statistics_scores_by_gender[2, \"Mean\"] - statistics_scores_by_gender[1, \"Mean\"]\n",
    "mean_difference "
   ]
  },
  {
   "cell_type": "code",
   "execution_count": null,
   "metadata": {},
   "outputs": [],
   "source": [
    "# Distributions of gender by female and male\n",
    "\n",
    "evals %>% ggplot(aes(x=score))+geom_density(fill=\"gold\", color=\"red\")+facet_wrap(.~gender)"
   ]
  },
  {
   "cell_type": "code",
   "execution_count": null,
   "metadata": {},
   "outputs": [],
   "source": [
    "# linear regression lines plotted by gender\n",
    "\n",
    "plot_age_score_reg_by_gender_reg <-\n",
    "evals %>% ggplot(aes(x=age,y=score, color=gender))+\n",
    "geom_jitter(alpha=0.6, width=0.3)+\n",
    "geom_smooth(method=\"lm\", aes(color= gender ), se=FALSE)\n",
    "plot_age_score_reg_by_gender_reg\n",
    "\n",
    "# Interpretation: \n",
    "# it seems gender influences teaching scores\n",
    "# teaching scores decreasing faster for females than males, when age increases"
   ]
  },
  {
   "cell_type": "code",
   "execution_count": null,
   "metadata": {},
   "outputs": [],
   "source": [
    "# regression scores by gender\n",
    "\n",
    "reg_model_sc_gen <-\n",
    "lm(score~gender, evals)\n",
    "\n",
    "get_regression_table(reg_model_sc_gen )\n",
    "\n",
    "reg_model_sc_gen_points <- \n",
    "get_regression_points(reg_model_sc_gen )\n",
    "\n",
    "head(reg_model_sc_gen_points)\n",
    "\n",
    "rmse(evals$score, reg_model_sc_gen_points$residual)\n",
    "\n",
    "# In case of categorical variables the group means are the predictions.\n",
    "# The prediction for a female teaching score is in this model 4.093\n",
    "# The predictions for male teachingscores are on average 0.142 higher\n",
    "\n",
    "# Alternatively the Sum of squared residual is another measure to asses the quality of a regression model\n",
    "# Residual_Sum_of_Squares = RSS\n",
    "reg_model_sc_gen_points %>% mutate(Squared_residuals = residual^2) %>% \n",
    "summarize(Residual_Sum_of_Squares_RSS= sum(Squared_residuals ))"
   ]
  },
  {
   "cell_type": "code",
   "execution_count": null,
   "metadata": {},
   "outputs": [],
   "source": [
    "# plot residuals\n",
    "\n",
    "reg_model_sc_gen_points %>% \n",
    "ggplot(aes(x=residual)) +\n",
    "geom_histogram(color=\"black\", fill=\"gold\")"
   ]
  },
  {
   "cell_type": "code",
   "execution_count": null,
   "metadata": {},
   "outputs": [],
   "source": [
    "# teaching score by rank\n",
    "statistics_scores_by_rank <- \n",
    "evals %>% group_by(rank) %>% summarize(n=n(), \n",
    "                                         Proportions=n/length(evals$rank),\n",
    "                                         Median=median(score), \n",
    "                                         Mean = mean(score),\n",
    "                                         Quantile_25=quantile(score, probs=c(0.25)),\n",
    "                                         Quantile_75=quantile(score, probs=c(0.75)),\n",
    "                                         Standard_Deviation = sd(score),\n",
    "                                         IQR=Quantile_75-Quantile_25\n",
    "                                         )\n",
    "statistics_scores_by_rank"
   ]
  },
  {
   "cell_type": "code",
   "execution_count": null,
   "metadata": {},
   "outputs": [],
   "source": [
    "# visualize teaching score by rank with boxplot\n",
    "\n",
    "evals %>% ggplot(aes(x=rank, y=score))+\n",
    "geom_boxplot(color=\"red\", size=1, fill=\"blue\")\n"
   ]
  },
  {
   "cell_type": "code",
   "execution_count": null,
   "metadata": {},
   "outputs": [],
   "source": [
    "#linear regression\n",
    "reg_model_sc_rank <- \n",
    "lm(score ~ rank, evals)\n",
    "get_regression_table(reg_model_sc_rank)\n",
    "\n",
    "# group means \n",
    "\n",
    "teaching_mean <-  4.284 \n",
    "ranktenure_track_mean <-  4.284 - 0.130 \n",
    "ranktenured <- 4.284 + 0.145\n",
    "\n",
    "# In case of categorical variables the group means are the predictions.\n",
    "\n",
    "input_1<- c(teaching_mean,ranktenure_track_mean, ranktenured )\n",
    "dimnames_1 <- list(c(\"teaching_mean\",\"ranktenure_track_mean\", \"ranktenured_mean\"), \"Scores\")\n",
    "matrix(input_1, ncol=1, nrow=3,   dimnames = dimnames_1)"
   ]
  },
  {
   "cell_type": "code",
   "execution_count": null,
   "metadata": {},
   "outputs": [],
   "source": [
    "# plot residuals\n",
    "\n",
    "get_regression_points(reg_model_sc_rank) %>% \n",
    "ggplot(aes(x=residual)) +\n",
    "geom_histogram(color=\"black\", fill=\"gold\")"
   ]
  },
  {
   "cell_type": "code",
   "execution_count": null,
   "metadata": {},
   "outputs": [],
   "source": [
    "\n",
    "reg_model_score_age_gender <-\n",
    "lm(score ~ age + gender, data=evals)\n",
    "\n",
    "\n",
    "get_regression_table(reg_model_score_age_gender )\n",
    "summary(reg_model_score_age_gender )\n",
    "\n",
    "# all variables are significant given a test level of 0.05 and p-values below\n",
    "# if the gender is male for every unit in age teaching scores increase by 0.190571\n",
    "# given all other variables do not change\n",
    "# if the gender is female for every unit in age teaching scores decrease by -0.008678\n",
    "\n",
    "\n"
   ]
  },
  {
   "cell_type": "code",
   "execution_count": null,
   "metadata": {},
   "outputs": [],
   "source": [
    "# reg_model_score_age_gender\n",
    "\n",
    "pred_reg_model_score_age_gender <- \n",
    "predict(reg_model_score_age_gender)\n",
    "\n",
    "head(get_regression_points(reg_model_score_age_gender))\n",
    "\n",
    "rmse(evals$score, pred_reg_model_score_age_gender)\n",
    "\n",
    "# adding gender did not result in better predictions"
   ]
  },
  {
   "cell_type": "code",
   "execution_count": null,
   "metadata": {},
   "outputs": [],
   "source": [
    "# checking for interaction effects\n",
    "reg_model_score_age_gender_inter <-\n",
    "lm(score ~ age * gender, data=evals)\n",
    "get_regression_table(reg_model_score_age_gender_inter )\n",
    "summary(reg_model_score_age_gender_inter)"
   ]
  },
  {
   "cell_type": "code",
   "execution_count": null,
   "metadata": {},
   "outputs": [],
   "source": [
    "# reg_model_score_age_gender_inter\n",
    "pred_reg_model_score_age_gender_inter <-\n",
    "predict(reg_model_score_age_gender_inter)\n",
    "head(get_regression_points(reg_model_score_age_gender_inter))\n",
    "round(rmse(evals$score, pred_reg_model_score_age_gender_inter), 2)\n",
    "# Considering interaction effects resulted in only a very slight improvement"
   ]
  },
  {
   "cell_type": "code",
   "execution_count": null,
   "metadata": {},
   "outputs": [],
   "source": [
    "install.packages(\"ggcorrplot\",  repos = c(\"http://rstudio.org/_packages\",\"http://cran.rstudio.com\"))\n",
    "library(ggcorrplot)"
   ]
  },
  {
   "cell_type": "code",
   "execution_count": null,
   "metadata": {},
   "outputs": [],
   "source": [
    "# bty_avg - Average beauty rating of professor.\n",
    "unique(evals$bty_avg)\n",
    "number_of_bins_score_beauty <- Freedman_Diaconis(evals$bty_avg)\n",
    "paste(\"Freedman Diaconis rule for teaching scores version 1: \", number_of_bins_score_age)\n",
    "\n",
    "evals %>%\n",
    "ggplot(aes(x=bty_avg)) +\n",
    "geom_histogram(color=\"red\", size=0.8, fill=\"darkgreen\", bins = number_of_bins_score_beauty, aes(y=..density..) ) +\n",
    "geom_density(color=\"orange\", size=1)+\n",
    "labs(x=\"Beauty\", y=\"Count\")+\n",
    "stat_function(fun=dnorm, args=(list(mean=mean(evals$bty_avg), sd=sd(evals$bty_avg))), color=\"black\", size=1.5)\n",
    "\n",
    "density(evals$age)\n",
    "\n",
    "\n",
    "# distribution is right-skewed\n",
    "# tail on the right\n",
    "# mean > median > mode"
   ]
  },
  {
   "cell_type": "code",
   "execution_count": null,
   "metadata": {},
   "outputs": [],
   "source": [
    "# EDA of the relationship between teaching score and beauty score\n",
    "\n",
    "evals %>% ggplot(aes(x=bty_avg, y=score, color=age)) + geom_jitter(alpha=0.5)+\n",
    "labs(title=\"Beauty score over teaching score\", x=\"Beauty score\", y=\"Teaching score\")+\n",
    "scale_color_gradient( low = \"red\", high = \"yellow\")"
   ]
  },
  {
   "cell_type": "code",
   "execution_count": null,
   "metadata": {},
   "outputs": [],
   "source": [
    "# regression line beauty score and teaching scores\n",
    "ggplot(evals, aes(x = bty_avg, y = score)) +\n",
    "  geom_point(color=\"brown\") +\n",
    "  labs(x = \"beauty score\", y = \"score\") +\n",
    "  geom_smooth(method = 'lm', se = FALSE)"
   ]
  },
  {
   "cell_type": "code",
   "execution_count": null,
   "metadata": {},
   "outputs": [],
   "source": [
    "# Fit a simple linear regression model\n",
    "model_score_beauty <- lm(score ~ bty_avg, data = evals)\n",
    "\n",
    "# Output regression table\n",
    "get_regression_table(model_score_beauty )\n",
    "\n",
    "# For every increase of one in beauty score, you should observe an \n",
    "# associated increase of on average 0.0670 units in teaching score."
   ]
  },
  {
   "cell_type": "code",
   "execution_count": null,
   "metadata": {},
   "outputs": [],
   "source": [
    "cor_beauty_score <- evals %>% summarize(Correlation_beauty_teachingscore=cor(bty_avg, score))\n",
    "print(cor_beauty_score)\n",
    "# both variables are weakly positively related"
   ]
  },
  {
   "cell_type": "code",
   "execution_count": null,
   "metadata": {},
   "outputs": [],
   "source": [
    "# building a model with all variables as predictors\n",
    "reg_model_all_pred_var <-\n",
    "lm(score~., data=evals)\n",
    "\n",
    "reg_model_all_pred_var\n",
    "summary(reg_model_all_pred_var)\n",
    "head(get_regression_table(reg_model_all_pred_var))\n",
    "head(get_regression_points(reg_model_all_pred_var))\n",
    "\n"
   ]
  },
  {
   "cell_type": "code",
   "execution_count": null,
   "metadata": {},
   "outputs": [],
   "source": [
    "# visualize residuals\n",
    "\n",
    "get_regression_points(reg_model_all_pred_var) %>% \n",
    "ggplot(aes(x=residual)) +\n",
    "geom_histogram(color=\"pink\", fill=\"yellow\", bins=20)+\n",
    "labs(x=\"Count\", y=\"Residuals\", title=\"Residuals of model predicting teaching scores with all predictor variables\" )"
   ]
  },
  {
   "cell_type": "code",
   "execution_count": null,
   "metadata": {},
   "outputs": [],
   "source": [
    "# predicting with reg_model_all_pred_var\n",
    "\n",
    "reg_model_all_pred_var_pred <- \n",
    "predict(reg_model_all_pred_var)\n",
    "\n",
    "rmse(evals$score, reg_model_all_pred_var_pred )\n",
    "\n",
    "# Incorporating all variables as predictor variables in the model resuls in an improved rmse\n",
    "# Next: sort out variables with insignificant p-values"
   ]
  },
  {
   "cell_type": "code",
   "execution_count": null,
   "metadata": {},
   "outputs": [],
   "source": [
    "# Feature engineering\n",
    "str(evals)"
   ]
  },
  {
   "cell_type": "code",
   "execution_count": null,
   "metadata": {},
   "outputs": [],
   "source": [
    "# Discard ID: ID  a predictor makes not sense\n",
    "# age + gender + language + rank + pic_outfitnotformal + pic_color + cls_did_eval + cls_students   \n",
    "# select only variables with a significant p-value below 0.05\n",
    "\n",
    "reg_model_selected_variables <-\n",
    "lm(score ~ age + gender + language + rank +  pic_outfit + \n",
    "   pic_color + cls_did_eval + cls_students, data=evals)\n",
    "\n",
    "summary(reg_model_selected_variables)\n",
    "\n",
    "reg_model_selected_variables_table <-\n",
    "get_regression_table(reg_model_selected_variables)\n",
    "reg_model_selected_variables_residuals <-\n",
    "get_regression_points(reg_model_selected_variables)\n",
    "\n",
    "reg_model_selected_variables_table\n",
    "\n",
    "head(reg_model_selected_variables_residuals)"
   ]
  },
  {
   "cell_type": "code",
   "execution_count": null,
   "metadata": {},
   "outputs": [],
   "source": [
    "reg_model_selected_variables_pred <-\n",
    "predict(reg_model_selected_variables)\n",
    "\n",
    "# Sum of squared residuals\n",
    "get_regression_points(reg_model_selected_variables) %>% mutate(SR=residual^2) %>% summarize(SSR=sum(SR))\n",
    "\n",
    "rmse(evals$score, reg_model_selected_variables_pred)"
   ]
  },
  {
   "cell_type": "code",
   "execution_count": null,
   "metadata": {},
   "outputs": [],
   "source": [
    "\n",
    "# Model assesment of all developed models using RSS\n",
    "# Writing a function finding RSS over many lm models\n",
    "# Using a foor loop extracting RSS and model name\n",
    "\n",
    "# Input lists\n",
    "\n",
    "\n",
    "\n",
    "\n",
    "Reg_models <- list(reg_model_selected_variables, \n",
    "                   reg_model_all_pred_var,\n",
    "                   model_score_beauty,\n",
    "                   reg_model_score_age_gender,\n",
    "                   reg_model_sc_rank,\n",
    "                   reg_score_age_beauty_interaction,\n",
    "                   reg_score_age_beauty,\n",
    "                   reg_score_age)\n",
    "\n",
    "\n",
    "Reg_models_names <- list(\"reg_model_selected_variables\", \n",
    "                          \"reg_model_all_pred_var\",\n",
    "                          \"model_score_beauty\",\n",
    "                          \"reg_model_score_age_gender\",\n",
    "                          \"reg_model_sc_rank\",\n",
    "                          \"reg_score_age_beauty_interaction\",\n",
    "                          \"reg_score_age_beauty\",\n",
    "                          \"reg_score_age\")\n",
    "\n",
    "\n",
    "\n",
    "\n",
    "RSS_finding_for_many_models <- \n",
    "\n",
    "function(regression_models, regression_model_names){\n",
    "    \n",
    "        RSS_vector <- c()\n",
    "        RSS_reg_model_names <- c()\n",
    "    \n",
    "        for (i in 1:length(regression_models)) {\n",
    "        \n",
    "\n",
    "    \n",
    "        RSS <- get_regression_points(regression_models[[i]]) %>% mutate(RS=residual^2) %>% summarize(RSS=sum(RS))\n",
    "        # Sum of residuals square\n",
    "        # RSS <- as.numeric(RSS)\n",
    "        # RSS_vector[i] <- RSS\n",
    "        \n",
    "        RSS_vector[i] <- RSS\n",
    "        RSS_reg_model_names[i] <- regression_model_names[[i]]\n",
    "        \n",
    "        \n",
    "        \n",
    "    }\n",
    "    \n",
    "    mapped <- mapply(c, RSS_reg_model_names, RSS_vector )\n",
    "    mapped <- mapped[, order(mapped[2,])]\n",
    "    return(mapped)\n",
    "}\n",
    "\n",
    "\n",
    "RSS_finding_for_many_models(Reg_models, Reg_models_names)\n",
    "\n",
    "\n",
    "# Conclusion:\n",
    "# The model \"reg_model_all_pred_var\" - model using all predictor variables including ID has the lowest RSS\n",
    "# This model delivers therefore according to RRS the best predictions.\n",
    "# Lm with power transformed values could deliver better results.\n"
   ]
  },
  {
   "cell_type": "code",
   "execution_count": null,
   "metadata": {},
   "outputs": [],
   "source": [
    "\n",
    "# Writing a function calculating the R-squared over all models\n",
    "# R2 is a measure of model fit\n",
    "\n",
    "R_squared_calc_over_many_models <- \n",
    "function(regression_models, R_squared_reg_model_names, dependent_variable){\n",
    "    \n",
    "    R_squared_vector <- c()\n",
    "    R_squared_names_vector<- c()\n",
    "    \n",
    "    for (i in 1:length(regression_models)) {\n",
    "    \n",
    "    RSS <- get_regression_points(regression_models[[i]])  %>% mutate(RS=residual^2) %>% summarize(RSS=sum(RS))\n",
    "    \n",
    "    RSS <- as.numeric(RSS)\n",
    "    \n",
    "    # Total sum of square\n",
    "    \n",
    "    Deviation_Mean <- (dependent_variable - mean(dependent_variable))^2\n",
    "    TSS <- sum(Deviation_Mean)\n",
    "    \n",
    "    R_squared <- 1- RSS / TSS\n",
    "    \n",
    "    R_squared_vector[i] <- R_squared\n",
    "    R_squared_names_vector[i] <- R_squared_reg_model_names[[i]]\n",
    "    \n",
    "    }\n",
    "    \n",
    "    mapped <- mapply(c, R_squared_names_vector, R_squared_vector)\n",
    "    mapped <- mapped[, order(mapped[2,], decreasing = TRUE)]\n",
    "    return(mapped)\n",
    "    \n",
    "}\n",
    "\n",
    "\n",
    "\n",
    "R_squared_calc_over_many_models(regression_models=Reg_models, \n",
    "                                R_squared_reg_model_names=Reg_models_names, \n",
    "                                dependent_variable=evals$score)\n",
    "\n",
    "\n",
    "\n",
    "# The model \"reg_model_all_pred_var\" has the highest r-squared with 0.163765841959724\n",
    "# This supports the conclusion with the RSS\n",
    "# However the R-squared is not very good.\n",
    "# Transforming the variable can result in better predictions.\n",
    "\n"
   ]
  },
  {
   "cell_type": "code",
   "execution_count": null,
   "metadata": {},
   "outputs": [],
   "source": [
    "# Writing a function calculating the rmse over all models\n",
    "# rmse is a commonly used measure of preditive error.\n",
    "# rmse can be thought of as the 'typical' error a predicive model will make.\n",
    "\n",
    "rmse_calc_over_many_models <- \n",
    "function(regression_models, rmse_reg_model_names, response_variable){\n",
    "    \n",
    "    rmse_vector <- c()\n",
    "    rmse_names_vector<- c()\n",
    "    \n",
    "    for (i in 1:length(regression_models)) {\n",
    "        \n",
    "        rmse_vector[i] <- rmse(response_variable, predict(regression_models[[i]]))\n",
    "        rmse_names_vector[i] <- rmse_reg_model_names[[i]]\n",
    "        \n",
    "    \n",
    "    \n",
    "    }\n",
    "    \n",
    "    mapped <- mapply(c, rmse_names_vector, rmse_vector)\n",
    "    mapped <- mapped[, order(mapped[2,], decreasing = FALSE)]\n",
    "    return(mapped)\n",
    "    \n",
    "}\n",
    "\n",
    "\n",
    "\n",
    "rmse_calc_over_many_models(regression_models=Reg_models, \n",
    "                           rmse_reg_model_names=Reg_models_names, \n",
    "                           response_variable=evals$score)\n",
    "\n",
    "\n",
    "# The model \"reg_model_all_pred_var\" has the highest r-squared with 0.496810538127208\n",
    "# Lower values of the rmse point to a better model fit\n",
    "# This supports the conclusion with the RSS and R-squared\n",
    "# Transforming the variable can result in better predictions.\n",
    "\n",
    "\n"
   ]
  },
  {
   "cell_type": "code",
   "execution_count": null,
   "metadata": {},
   "outputs": [],
   "source": [
    "# Mean Square Error = Mean Square Residuals; Residuals = Errors = gap between observed values and predicted values\n",
    "\n",
    "rmse_calc_over_many_models_alt <- \n",
    "\n",
    "function(regression_models, regression_model_names){\n",
    "    \n",
    "        rmse_vector <- c()\n",
    "        rmse_reg_model_names <- c()\n",
    "    \n",
    "        for (i in 1:length(regression_models)) {\n",
    "        \n",
    "\n",
    "    \n",
    "        rmse <- get_regression_points(regression_models[[i]]) %>% \n",
    "                mutate(RS=residual^2) %>% summarize(RSS=sqrt(mean(RS)))\n",
    "        # Sum of residuals square\n",
    "        # RSS <- as.numeric(RSS)\n",
    "        # RSS_vector[i] <- RSS\n",
    "        \n",
    "        rmse_vector[i] <- rmse\n",
    "        rmse_reg_model_names[i] <- regression_model_names[[i]]\n",
    "        \n",
    "        \n",
    "        \n",
    "    }\n",
    "    \n",
    "    mapped <- mapply(c, rmse_reg_model_names, rmse_vector )\n",
    "    mapped <- mapped[, order(mapped[2,])]\n",
    "    return(mapped)\n",
    "}\n",
    "\n",
    "\n",
    "rmse_calc_over_many_models_alt(Reg_models, Reg_models_names)\n",
    "\n",
    "\n",
    "# This version of calculating rmse delivers the same result"
   ]
  },
  {
   "cell_type": "code",
   "execution_count": null,
   "metadata": {},
   "outputs": [],
   "source": [
    "# Transforming all numerical variables of the data set evals with the logarithm to the basis 10\n",
    "# Reduce skewness of the distribution, make better predictions with condensed and compact distributions\n",
    "\n",
    "# Look at the data\n",
    "# log10(evals$score)\n",
    "# glimpse(evals)\n",
    "\n",
    "evals_log_transformed <-                \n",
    "evals %>% mutate(  log10_score =log10(score), log10_age =log10(age ), \n",
    "                    log10_bty_avg =log10(bty_avg), log10_cls_did_eval =log10(cls_did_eval),\n",
    "                    log10_cls_students =log10(cls_students)) \n",
    "\n",
    "# glimpse(evals_log_transformed)\n",
    "\n",
    "evals_log_transformed_select <- \n",
    "evals_log_transformed %>% dplyr :: select(ID, gender , ethnicity, language , rank , pic_outfit ,  pic_color, cls_level, \n",
    "                                         log10_score , log10_age, log10_bty_avg , log10_cls_did_eval, \n",
    "                                         log10_cls_students)\n",
    "           \n",
    "glimpse(evals_log_transformed_select)"
   ]
  },
  {
   "cell_type": "code",
   "execution_count": null,
   "metadata": {},
   "outputs": [],
   "source": [
    "# Build a regression model with evals_log_transformed_select using log transformed numerical values\n",
    "\n",
    "reg_model_evals_log_transformed_select_all_variables <-\n",
    "lm(log10_score ~ ., data=evals_log_transformed_select)\n",
    "\n",
    "get_regression_table(reg_model_evals_log_transformed_select_all_variables)\n",
    "summary(reg_model_evals_log_transformed_select_all_variables)"
   ]
  },
  {
   "cell_type": "code",
   "execution_count": null,
   "metadata": {},
   "outputs": [],
   "source": [
    "# Model assesement\n",
    "\n",
    "RSS_log_transformed_select <-\n",
    "RSS_calc_fun(reg_model_evals_log_transformed_select_all_variables)\n",
    "\n",
    "\n",
    "R_squared_log_transformed_select <-\n",
    "R_squared_calc(regression_model=reg_model_evals_log_transformed_select_all_variables, \n",
    "               dependent_variable=evals_log_transformed_select$log10_score)\n",
    "\n",
    "\n",
    "rmse_evals_log_transformed_select <- \n",
    "rmse(evals_log_transformed_select$log10_score, predict(reg_model_evals_log_transformed_select_all_variables))\n",
    "\n",
    "\n",
    "\n",
    "# RSS_finding_for_many_models(Reg_models_log_transformed, Reg_models_names_log_transformed)\n",
    "# Does not work why?\n",
    "# for (i in 1:length(reg_models)), reg_models is a specific list of models and not a variable\n",
    "# Forrected: for (i in 1:length(regression_models))\n",
    "\n",
    "Reg_models_evals_log_transformed <-\n",
    "list(reg_model_evals_log_transformed_select_all_variables)\n",
    "\n",
    "Reg_models_evals_log_transformed_names <-\n",
    "list(\"reg_model_evals_log_transformed_select_all_variables\")\n",
    "\n",
    "RSS_evals_log_transformed_select <-\n",
    "RSS_finding_for_many_models(Reg_models_evals_log_transformed , Reg_models_evals_log_transformed_names )\n",
    "\n",
    "paste(\"RSS_log_transformed: \", RSS_evals_log_transformed_select)\n",
    "paste(\"R_squared_log_transformed: \", R_squared_log_transformed_select)\n",
    "paste(\"rmse_evals_log_transformed: \", rmse_evals_log_transformed_select)\n",
    "\n",
    "# Conclusion:\n",
    "# rmse_evals_log_transformed:  0.0556551904827319 compared with 0.496810538127208 of the  best not transformed model\n",
    "# The data tranformation resulted in significant improvement in model performance or quality\n",
    "# rmse is on the same scale as the response variable\n",
    "# rmse has the same unit as the dependent variable\n",
    "# R_squared_log_transformed:  0.156161609055826 compared 0.163765841959724 of the  best not transformed model\n",
    "# R_squared not tranformed is a slightly better fit\n",
    "# The RSS is not useful to compare between transformed and not transformed data\n",
    "# The scale is different\n",
    "# It could be useful comparing within transformed data\n",
    "\n",
    "rmse_reverse_transformation <-\n",
    "10^(0.0556551904827319)\n",
    "\n",
    "\n",
    "evals %>% summarize(Minimum=min(score),\n",
    "                    Maximum=max(score),\n",
    "                    rmse_reversed=rmse_reverse_transformation)\n"
   ]
  },
  {
   "cell_type": "code",
   "execution_count": null,
   "metadata": {},
   "outputs": [],
   "source": [
    "# correlation plot over the numeric variables of evals - evaluations\n",
    "glimpse(evals)\n",
    "\n",
    "evals_age_other <- dplyr::select(evals , age, score, bty_avg, cls_did_eval, cls_students)\n",
    "\n",
    "cor_matrix_evals <- round(cor(evals_age_other), 4)\n",
    "ggcorrplot(cor_matrix_evals)"
   ]
  },
  {
   "cell_type": "markdown",
   "metadata": {
    "collapsed": true
   },
   "source": [
    "### House Sales in King County, USA\n",
    "\n",
    "<p>\n",
    "This dataset contains house sale prices for King County, which includes Seattle. \n",
    "It consists of 19 house features plus the price and the id columns, along with 21613 observations.\n",
    "It includes homes sold between May 2014 and May 2015.\n",
    "It's a great dataset for evaluating simple regression models.\n",
    "</p>\n",
    "<p>\n",
    "You can find it on\n",
    "<a href=\"https://www.kaggle.com/harlfoxem/housesalesprediction/version/1#kc_house_data.csv\",  target=\"_blank\"> \n",
    "Kaggle.\n",
    "</a>\n",
    "</p>\n"
   ]
  },
  {
   "cell_type": "code",
   "execution_count": null,
   "metadata": {},
   "outputs": [],
   "source": [
    "# Read data set in\n",
    "getwd()\n",
    "path_housesales <- file.path(\"C:\",\"Users\",\"gamarandor\",\"Google Drive\",\"Education\",\"Data_Camp\",\"R\", \"Statistics\", \n",
    "                             \"Modeling with Data in the Tidyverse\", \"kc_house_data_csv\", \"kc_house_data.csv\" )\n",
    "\n",
    "\n",
    "\n",
    "housesales <- read.csv(path_housesales)"
   ]
  },
  {
   "cell_type": "code",
   "execution_count": null,
   "metadata": {},
   "outputs": [],
   "source": [
    "# EDA - take a look at the data\n",
    "glimpse(housesales)"
   ]
  },
  {
   "cell_type": "code",
   "execution_count": null,
   "metadata": {},
   "outputs": [],
   "source": [
    "names(housesales)"
   ]
  },
  {
   "cell_type": "code",
   "execution_count": null,
   "metadata": {},
   "outputs": [],
   "source": [
    "head((housesales))"
   ]
  },
  {
   "cell_type": "code",
   "execution_count": null,
   "metadata": {},
   "outputs": [],
   "source": [
    "tail((housesales))"
   ]
  },
  {
   "cell_type": "code",
   "execution_count": null,
   "metadata": {},
   "outputs": [],
   "source": [
    "# 21 variables, 21613 observations\n",
    "dim((housesales))"
   ]
  },
  {
   "cell_type": "code",
   "execution_count": null,
   "metadata": {},
   "outputs": [],
   "source": [
    "summary((housesales))"
   ]
  },
  {
   "cell_type": "code",
   "execution_count": null,
   "metadata": {},
   "outputs": [],
   "source": [
    "library(scales)"
   ]
  },
  {
   "cell_type": "code",
   "execution_count": null,
   "metadata": {},
   "outputs": [],
   "source": [
    "# EDA - visualize the data\n",
    "# number of bins with Freedman-Diaconis rule\n",
    "number_of_bins_price <- Freedman_Diaconis(housesales$price)\n",
    "number_of_bins_price \n",
    "\n",
    "\n",
    "hist_housesales <-\n",
    "housesales %>%\n",
    "ggplot(aes(x=price)) +\n",
    "geom_histogram(bins=number_of_bins_price, fill=\"yellow\", aes(y=..density..))+\n",
    "labs(x=\"House Prices\", y=\"Count\")+\n",
    "stat_function(fun = dnorm, args = list(mean = mean(housesales$price), sd = sd(housesales$price)),  size=1.5)+\n",
    "geom_text(aes(y=0.00000050, label=\"Theoretical Normal Distribution\", x=3000000))+\n",
    "geom_density(color=\"darkgreen\", size=0.6)+\n",
    "geom_text(aes(y=0.00000090, label=\"Empirical Density Plot\", x=2000000), color=\"darkgreen\")+\n",
    "geom_vline(xintercept=450000, linetype=\"solid\", size=1, color=\"blue\")+\n",
    "geom_text(aes(x=1600000, y=0.0000018, label=\"Median: $450000\" ), color=\"blue\")+\n",
    "geom_vline(xintercept=540088, linetype=\"solid\", size=1, color=\"red\")+\n",
    "geom_text(aes(x=1600000, y=0.0000013, label=\"Mean: $540088\"), color=\"red\")+\n",
    "ggtitle(\"Frequency distribution of housesale prices in $ visualized with a histogram\")+\n",
    "scale_x_continuous(labels = dollar)\n",
    "\n",
    "\n",
    "#try to convert scientific notation to full numbers\n",
    "# not easy, see discussion\n",
    "# https://stackoverflow.com/questions/14563989/force-r-to-stop-plotting-abbreviated-axis-labels-e-g-1e00-in-ggplot2\n",
    "\n",
    "\n",
    "y_breaks <- format(c(0e+00, 5e-7, 1e-6, 1.5e-06, 2.0e-06), big.mark=\",\", scientific=FALSE)\n",
    "y_breaks\n",
    "class(y_breaks)\n",
    "y_breaks <- as.double(y_breaks)\n",
    "y_breaks\n",
    "class(y_breaks)\n",
    "\n",
    "\n",
    "\n"
   ]
  },
  {
   "cell_type": "code",
   "execution_count": null,
   "metadata": {},
   "outputs": [],
   "source": [
    "# only 100 bins\n",
    "\n",
    "\n",
    "hist_housesales_100_bins <- \n",
    "housesales %>%\n",
    "ggplot(aes(x=price)) +\n",
    "geom_histogram(bins=100, fill=\"yellow\", aes(y=..density..))+\n",
    "labs(x=\"House Prices\", y=\"Count\")+\n",
    "stat_function(fun = dnorm, args = list(mean = mean(housesales$price), sd = sd(housesales$price)),  size=1.5)+\n",
    "geom_text(aes(y=0.00000050, label=\"Theoretical Normal Distribution\", x=3000000))+\n",
    "geom_density(color=\"darkgreen\", size=0.6)+\n",
    "geom_text(aes(y=0.00000090, label=\"Empirical Density Plot\", x=2000000), color=\"darkgreen\")+\n",
    "geom_vline(xintercept=450000, linetype=\"solid\", size=1, color=\"blue\")+\n",
    "geom_text(aes(x=1600000, y=0.0000018, label=\"Median: $450000\" ), color=\"blue\")+\n",
    "geom_vline(xintercept=540088, linetype=\"solid\", size=1, color=\"red\")+\n",
    "geom_text(aes(x=1600000, y=0.0000013, label=\"Mean: $540088\"), color=\"red\")+\n",
    "ggtitle(\"Frequency distribution of housesale prices in $ visualized with a histogram\")+ \n",
    "scale_x_continuous(labels = dollar)\n",
    "\n",
    "print(hist_housesales_100_bins)\n",
    "\n"
   ]
  },
  {
   "cell_type": "code",
   "execution_count": null,
   "metadata": {},
   "outputs": [],
   "source": [
    "hist_housesales_100_xlim<- \n",
    "housesales %>%\n",
    "ggplot(aes(x=price)) +\n",
    "geom_histogram(bins=100, fill=\"yellow\", aes(y=..density..))+\n",
    "labs(x=\"House Prices\", y=\"Count\")+\n",
    "stat_function(fun = dnorm, args = list(mean = mean(housesales$price), sd = sd(housesales$price)),  size=1.5)+\n",
    "geom_text(aes(y=0.00000050, label=\"Theoretical Normal Distribution\", x=1400000))+\n",
    "geom_density(color=\"darkgreen\", size=0.6)+\n",
    "geom_text(aes(y=0.00000090, label=\"Empirical Density Plot\", x=1400000), color=\"darkgreen\")+\n",
    "geom_vline(xintercept=450000, linetype=\"solid\", size=1, color=\"blue\")+\n",
    "geom_text(aes(x=1100000, y=0.0000018, label=\"Median: $450000\" ), color=\"blue\")+\n",
    "geom_vline(xintercept=540088, linetype=\"solid\", size=1, color=\"red\")+\n",
    "geom_text(aes(x=1100000, y=0.0000013, label=\"Mean: $540088\"), color=\"red\")+\n",
    "ggtitle(\"Frequency distribution of housesale prices in $ visualized within limits $0 to \\n$2.000.000\")+ \n",
    "scale_x_continuous(labels = dollar)+\n",
    "xlim(0, 2000000)\n",
    "\n",
    "suppressWarnings(print(hist_housesales_100_xlim))"
   ]
  },
  {
   "cell_type": "code",
   "execution_count": null,
   "metadata": {},
   "outputs": [],
   "source": [
    "# Transform house prices with the logarithm to the basis 10\n",
    "# The house prices are within the range 0 to 8.000.000\n",
    "# The range creates a distribution with a long tail to the right \n",
    "# Or: the distribution is right skewed\n",
    "# a dot plot helps tho see this better\n",
    "# a logarithmic transformation of the x-values (house prices) minimize the influence of outliers on the distribution\n",
    "# but a logarithmic transformation preserves order or is monotonic\n",
    "# logarithmic graph: weights differences in the beginning higher than in the ending\n",
    "# inverse of the exponential graph\n",
    "# helps to see differences in bulks (beginning), and reduces thes weight of outliers (ending)\n",
    "\n",
    "ggplot(housesales, aes(x=price)) + geom_dotplot(color=\"red\", fill=\"azure\")\n",
    "\n"
   ]
  },
  {
   "cell_type": "code",
   "execution_count": null,
   "metadata": {},
   "outputs": [],
   "source": [
    "housesales <-\n",
    "housesales %>% mutate(log10_prices = log10(price))\n",
    "names(housesales)\n",
    "glimpse(housesales)\n",
    "\n",
    "housesales %>% dplyr::select(price, log10_prices) %>% head()\n"
   ]
  },
  {
   "cell_type": "code",
   "execution_count": null,
   "metadata": {},
   "outputs": [],
   "source": [
    "install.packages(\"gridExtra\",repos = c(\"http://rstudio.org/_packages\", \"http://cran.rstudio.com\"))\n",
    "library(gridExtra)\n",
    "\n",
    "grid.arrange(housesales_log_hist, housesales_prices_hist, ncol=2)"
   ]
  },
  {
   "cell_type": "code",
   "execution_count": null,
   "metadata": {},
   "outputs": [],
   "source": [
    "# EDA- visualize transformed house prices\n",
    "# The distribution is similar to a normal distribution\n",
    "housesales_prices_hist <-\n",
    "housesales %>% ggplot(aes(x=price)) + geom_histogram(fill=\"gold\", color=\"blue\")+\n",
    "labs(y=\"Count\", x=\"House Prices\")\n",
    "\n",
    "\n",
    "housesales_log_hist <-\n",
    "housesales %>% ggplot(aes(x=log10_prices)) + \n",
    "geom_histogram(fill=\"gold\", color=\"blue\", bins=20)+\n",
    "labs(y=\"Count\", x=\"House Prices in the logarithm to basis 10\", title=\"Distribution of log house prices\")\n",
    "\n",
    "housesales_log_hist"
   ]
  },
  {
   "cell_type": "code",
   "execution_count": null,
   "metadata": {},
   "outputs": [],
   "source": [
    "# EDA - waterfront\n",
    "\n",
    "housesales %>% dplyr::select(price, waterfront) %>% glimpse()\n",
    "unique(housesales$waterfront)\n",
    "# waterfront is categorical, but has got type integer\n",
    "# convert to factor\n",
    "housesales_price_waterfront <-\n",
    "housesales %>% dplyr::select(price, waterfront) %>% mutate(waterfront = as.factor(waterfront))\n",
    "str(housesales_price_waterfront )\n",
    "summary(housesales_price_waterfront )\n",
    "head(housesales_price_waterfront )\n",
    "tail(housesales_price_waterfront )"
   ]
  },
  {
   "cell_type": "code",
   "execution_count": null,
   "metadata": {},
   "outputs": [],
   "source": [
    "#compute summary statistics by waterfront or none\n",
    "housesales %>% group_by(waterfront) %>% \n",
    "summarize(Median= median(log10_prices),\n",
    "          Quantile_25=quantile(log10_prices, probs = c(0.25), na.rm = FALSE, names = TRUE),\n",
    "          Quantile_75=quantile(log10_prices, probs = c(0.75), na.rm = FALSE, names = TRUE),\n",
    "          Maximum=max(log10_prices),\n",
    "          Minimum=min(log10_prices))"
   ]
  },
  {
   "cell_type": "code",
   "execution_count": null,
   "metadata": {},
   "outputs": [],
   "source": [
    "housesales_price_waterfront %>% \n",
    "ggplot(aes(x=waterfront)) + geom_bar(fill=c(\"blue\", \"lightgreen\"))+\n",
    "geom_text(aes(x=1, y=15000, label=\"21450 houses have no waterfront \"))+\n",
    "geom_text(aes(x=2, y=15000, label=\"163 houses have a waterfront \"))+ \n",
    "labs(x=\"Waterfront - yes or no\", y= \"Number of houses\", title=\"Number of houses with or without waterfront\")+\n",
    "scale_x_discrete(breaks = c(0, 1),label = c(\"Yes\", \"No\"))\n",
    "# Assumption: waterfront houses are rare and more attractive - as such they incur higher prices"
   ]
  },
  {
   "cell_type": "markdown",
   "metadata": {},
   "source": [
    "#### Predict house price by categorical variable waterfront using regression"
   ]
  },
  {
   "cell_type": "code",
   "execution_count": null,
   "metadata": {},
   "outputs": [],
   "source": [
    "# visualize the relationship between price by waterfront using the log transformed prices\n",
    "\n",
    "glimpse(housesales$log10_prices)\n",
    "\n",
    "\n",
    "housesales %>% ggplot(aes(x=as.factor(waterfront), y=log10_prices, group=waterfront)) + \n",
    "geom_boxplot(color=c(\"darkred\", \"black\"), fill=c(\"black\", \"green\"))+\n",
    "labs(y=\"Log transformed prices\", x=\"Waterfront\", title=\"Boxplots of houses by waterfront \")+\n",
    "geom_text(x=1, y=6.92, label=\"Maximum: 6.886491\")+\n",
    "geom_text(x=1, y=4.86, label=\"Minimum: 4.875061\")+\n",
    "geom_text(x=1, y=5.7, label=\"Median: 4.875061\", color=\"red\")+\n",
    "geom_text(x=2, y=6.9, label=\"Maximum: 6.848958\")+\n",
    "geom_text(x=2, y=5.25, label=\"Minimum: 5.454845\")+\n",
    "geom_text(x=2, y=6.25 , label=\"Median: 6.146128\", color=\"black\")+\n",
    "scale_x_discrete(breaks = c(0, 1),label = c(\"Yes\", \"No\"))\n",
    "\n",
    "# the median of house prices with waterfront is greater than without\n",
    "# houseprices increase by waterfront\n",
    "          \n",
    "          "
   ]
  },
  {
   "cell_type": "code",
   "execution_count": null,
   "metadata": {},
   "outputs": [],
   "source": [
    "# Approaching prediction using the average of house prices\n",
    "# the average is the predicition of a house price\n",
    "# in general this method delivers not good predictions\n",
    "\n",
    "\n",
    "\n",
    "housesale_averages <- \n",
    "housesales %>% group_by(waterfront) %>% summarize(Average_houseprices=mean(price), \n",
    "                                                  Average_log_houseprices= mean(log10_prices))\n",
    "housesale_averages \n",
    "glimpse(housesale_averages)\n",
    "housesale_averages$Average_log_houseprices\n",
    "\n",
    "housesale_averages <- housesale_averages %>% mutate(Log_Reversed=10^(Average_log_houseprices))\n",
    "housesale_averages\n",
    "# the reversed log transformed prices are more normal and account better for the skewness of the distributions\n",
    "# On average you would expect to pay $1332566.9 for a house with waterfront"
   ]
  },
  {
   "cell_type": "code",
   "execution_count": null,
   "metadata": {},
   "outputs": [],
   "source": [
    "housesales %>%\n",
    "ggplot(aes(x=waterfront,y=log10_prices, color=waterfront))+\n",
    "geom_jitter(alpha=0.5, width=0.1)+\n",
    "geom_smooth(method=\"lm\")+\n",
    "geom_hline(yintercept=5.663114, color=\"darkblue\", size=1)+\n",
    "geom_text(x=0.4, y= 5.663114 -0.1, \n",
    "          label=\"Average house price without \\nwaterfront 5.663114 ($460377.2)\", \n",
    "          color=\"darkblue\" )+\n",
    "geom_hline(yintercept=6.124689 , color=\"lightblue\", size=1)+\n",
    "geom_text(x=0.6, y= 6.124689 + 0.1, \n",
    "          label=\"Average house price  \\nwith waterfront 6.124689 ($1332566.9)\", color=\"lightblue\" )+\n",
    "labs(y=\"Log transformed prices\", x=\"Waterfront\", title=\"Relationship of houses and waterfront \")+\n",
    "guides(colour=FALSE)+\n",
    "scale_x_continuous(breaks = c(0, 1),label = c(\"Yes\", \"No\"))"
   ]
  },
  {
   "cell_type": "markdown",
   "metadata": {},
   "source": [
    "####  Modeling the relationships between house prices and the other variables using linear regression"
   ]
  },
  {
   "cell_type": "code",
   "execution_count": null,
   "metadata": {},
   "outputs": [],
   "source": [
    "# simple linear regression of predicting houseprices (log) with waterfront\n",
    "\n",
    "housesales$waterfront <- factor(housesales$waterfront )\n",
    "\n",
    "simple_linear_regression_logprice_waterfront <- \n",
    "lm( log10_prices ~ waterfront, data=housesales_none_33)\n",
    "\n",
    "simple_linear_regression_logprice_waterfront\n",
    "\n",
    "summary(simple_linear_regression_logprice_waterfront)\n",
    "\n",
    "get_regression_table(simple_linear_regression_logprice_waterfront)\n",
    "\n",
    "# Interpretation: the p-value of the waterfront variable is smaller than we would\n",
    "# expect if there was not a relationship between price and waterfront\n",
    "# Null-hypthesis: the relationship is zero - is rejected\n",
    "# Alternative hypothesis is not rejected - a waterfront influences house prices"
   ]
  },
  {
   "cell_type": "code",
   "execution_count": null,
   "metadata": {},
   "outputs": [],
   "source": [
    "# rmse(truth, response)\n",
    "# install.packages( \"measures\", repos = c(\"http://rstudio.org/_packages\", \"http://cran.rstudio.com\"))\n",
    "library(\"measures\")\n",
    "# rmse(truth, response)\n",
    "\n",
    "\n",
    "predict_reg_log_water <- predict(simple_linear_regression_logprice_waterfront)\n",
    "\n",
    "predict_reg_log_water[1:4]\n",
    "unique(predict_reg_log_water )\n",
    "\n",
    "\n",
    "df_prices_log <- data.frame(Act_Logprices=housesales$log10_prices,\n",
    "                            Pred_Logprices_Water=predict_reg_log_water)\n",
    "\n",
    "df_prices_log <- \n",
    "df_prices_log %>%\n",
    "mutate(Residuals =  Act_Logprices-Pred_Logprices_Water)\n",
    "\n",
    "head(df_prices_log )\n",
    "\n",
    "head(get_regression_points(simple_linear_regression_logprice_waterfront))\n",
    "\n",
    "df_prices_log_6 <- \n",
    "df_prices_log[df_prices_log$Pred_Logprices_Water == 6.12468901902678,]\n",
    "head(df_prices_log_6)\n",
    "\n",
    "rmse_prices_water_log <- rmse(df_prices_log$Act_Logprices, df_prices_log$Pred_Logprices_Water)\n",
    "paste(\"Root Mean Square Error of the simple linear regression model predicting log houseprices with waterfront: \",\n",
    "      round(rmse_prices_water_log, 2))\n",
    "\n",
    "intercept = 5.663114 + 0.461575\n",
    "paste(\"Intercept: \", intercept)\n",
    "\n",
    "# Conclusion: \n",
    "# The intercepts is the difference between a waterfront \n",
    "# predicting a dependent numerical variable like price with categorical variable like waterfront\n",
    "# if there is not a waterfront the price prediction is the intercept of 5.66311379973611\n",
    "# if there is a waterfront the price predictions is the intercept + the slope\n",
    "# 5.663114 + 0.461575 = 6.124689\n",
    "# In case of categorical variables the group means are the predictions.\n",
    "# Naturally a prediction on one categorical variable cannot make good predictions and is static"
   ]
  },
  {
   "cell_type": "code",
   "execution_count": null,
   "metadata": {},
   "outputs": [],
   "source": [
    "# An alternative measure of goodness of fit is the squared sum of residuals\n",
    "# In statistics, the residual sum of squares (RSS), also known as the sum of squared residuals (SSR) \n",
    "# or the sum of squared errors of prediction (SSE), \n",
    "# is the sum of the squares of residuals (deviations predicted from actual empirical values of data). \n",
    "# https://en.wikipedia.org/wiki/Residual_sum_of_squares\n",
    "\n",
    "head(get_regression_points(simple_linear_regression_logprice_waterfront))\n",
    "get_regression_points(simple_linear_regression_logprice_waterfront)  %>%\n",
    "mutate(Squared_residuals=residual^2) %>%\n",
    "summarize(Sum_squared_Residuals_SSR=sum(Squared_residuals))\n",
    "\n",
    "# With a perfect model fit of 0 a value of 1096.302 is not a good model fit"
   ]
  },
  {
   "cell_type": "code",
   "execution_count": null,
   "metadata": {},
   "outputs": [],
   "source": [
    "# reverse transformation\n",
    "\n",
    "predict_reg_log_water <- 10^(df_prices_log$Pred_Logprices_Water)\n",
    "Act_prices <- 10^(df_prices_log$Act_Logprices)\n",
    "\n",
    "df_prices_water <- \n",
    "data.frame(Actual_prices=Act_prices , Predicted_prices=predict_reg_log_water) %>%\n",
    "mutate(Residuals=Actual_prices-Predicted_prices)\n",
    "\n",
    "df_prices_water <- \n",
    "df_prices_water %>% mutate(Squared_Residuals= Residuals^2) \n",
    "\n",
    "head(df_prices_water)\n",
    "\n",
    "df_prices_water %>% summarize(Sum_Squared_Residuals=sum(Squared_Residuals))\n",
    "\n",
    "# SSR: is very high - 2832612000000000\n",
    "\n",
    "rmse_prices_water_dollar <-\n",
    "rmse(df_prices_water$Actual_prices  , df_prices_water$Predicted_prices)\n",
    "\n",
    "paste(\"Root Mean Square Error of the simple linear regression model predicting log houseprices with waterfront: \", \"$\",\n",
    "      round(rmse_prices_water_dollar, 2))\n",
    "\n",
    "sum(df_prices_water$Residuals)"
   ]
  },
  {
   "cell_type": "markdown",
   "metadata": {},
   "source": [
    "#### Predicting houseprices with a multiple linear regression model "
   ]
  },
  {
   "cell_type": "code",
   "execution_count": null,
   "metadata": {},
   "outputs": [],
   "source": [
    "# building a linear regression model with one categorical variable and one numerical variable\n",
    "\n",
    "reg_model_sf_water <-\n",
    "lm(log10_prices ~ log10_square + waterfront, data=housesales_none_33)\n",
    "\n",
    "get_regression_table(reg_model_sf_water)\n",
    "\n",
    "reg_model_sf_water_pred <- \n",
    "predict(reg_model_sf_water)\n",
    "\n",
    "head(reg_model_sf_water_pred_points)\n"
   ]
  },
  {
   "cell_type": "code",
   "execution_count": null,
   "metadata": {},
   "outputs": [],
   "source": [
    "# Model assesment\n",
    "\n",
    "paste(\"rmse: \", rmse(housesales$log10_prices, reg_model_sf_water_pred ))\n",
    "\n",
    "get_regression_points <- \n",
    "get_regression_points(reg_model_sf_water)\n",
    "\n",
    "reg_model_sf_water_RSS <-\n",
    "get_regression_points %>% mutate(RS=residual^2) %>% summarize(RSS=sum(RS))\n",
    "\n",
    "paste(\"RSS: \", reg_model_sf_water_RSS)\n",
    "\n",
    "reg_model_sf_water_pred_points <-\n",
    "get_regression_points %>% mutate(Pred_log=reg_model_sf_water_pred, Pred_absolute = 10^reg_model_sf_water_pred )\n",
    "\n",
    "\n",
    "reg_model_sf_water_R_squared <- \n",
    "1- (reg_model_sf_water_RSS / TSS_all)\n",
    "\n",
    "paste(\"R-squared_extracted: \", summary(reg_model_sf_water)$adj.r.squared)\n",
    "paste(\"R-squared_calculated: \", reg_model_sf_water_R_squared)"
   ]
  },
  {
   "cell_type": "code",
   "execution_count": null,
   "metadata": {},
   "outputs": [],
   "source": [
    "# predictions with new data\n",
    "\n",
    "housesales %>% summarize(Minimum=min(log10_square), Maximum=max(log10_square))\n",
    "\n",
    "# generate random data point\n",
    "\n",
    "radom_sf_15 <- \n",
    "runif(15, min =2.3, max=4.2)\n",
    "\n",
    "random_water_15 <-\n",
    "floor(runif(15, min=0, max=2))\n",
    "\n",
    "new_data_242342 <-\n",
    "data_frame(log10_square=radom_sf_15,\n",
    "           waterfront=factor(random_water_15))\n",
    "\n",
    "new_data_242342\n",
    "glimpse(new_data_242342)\n",
    "\n",
    "\n",
    "# use get_regression_points for prediction\n",
    "\n",
    "get_regression_points(reg_model_sf_water, newdata=new_data_242342) %>% mutate(Price_absolute=10^log10_prices_hat)\n",
    "\n",
    "# doing the same using predict\n",
    "predict_nd_log <- predict(reg_model_sf_water, newdata=new_data_242342)\n",
    "predict_nd_absolute <- 10^predict_nd_log\n",
    "cbind(new_data_242342, predict_nd, predict_nd_absolute )"
   ]
  },
  {
   "cell_type": "code",
   "execution_count": null,
   "metadata": {},
   "outputs": [],
   "source": [
    "names(housesales)\n",
    "\n",
    "housesales %>% ggplot(aes(x= log10_square , y=log10_prices, color=factor(waterfront))) +\n",
    "geom_point()+\n",
    "geom_smooth(method=\"lm\", se=FALSE, color=\"black\")+\n",
    "facet_wrap(.~factor(waterfront))+\n",
    "labs(x=\"Size of houses in log square feet\", y=\"Log house prices in $ \", \n",
    "     title=\"The relationship of price and size for waterfront given or not\")+\n",
    "scale_color_manual( values= c(\"skyblue\", \"royalblue\"), name=\"Waterfront\")\n",
    "\n"
   ]
  },
  {
   "cell_type": "code",
   "execution_count": null,
   "metadata": {},
   "outputs": [],
   "source": [
    "# select variables with intuition assuming these as good predictor variables\n",
    "\n",
    "housesales %>% dplyr::select(price, sqft_living, condition, waterfront) %>% glimpse()\n"
   ]
  },
  {
   "cell_type": "code",
   "execution_count": null,
   "metadata": {},
   "outputs": [],
   "source": [
    "# histograms of variables\n",
    "# Estimating skewness\n",
    "\n",
    "hist_price <-\n",
    "housesales %>% ggplot(aes(x=price)) +\n",
    "geom_histogram(color=\"green\", fill=\"red\", bins=20)+\n",
    "labs(x=\"House prices\", y=\"Count\", title=\"Distribution of house prices\")\n",
    "\n",
    "hist_sqft <-\n",
    "housesales %>% ggplot(aes(x=sqft_living)) +\n",
    "geom_histogram(color=\"red\", fill=\"green\", , bins=20)+\n",
    "labs(x=\"Square feet\", y=\"Count \", title=\"Distribution of square feet\")\n",
    "\n",
    "hist_condition  <-\n",
    "housesales %>% ggplot(aes(x=condition)) +\n",
    "geom_histogram(color=\"red\", fill=\"gold\", , bins=5)+\n",
    "labs(x=\"Condition\", y=\"Count\", title=\"Distribution of condition\")\n",
    "\n",
    "hist_waterfront  <-\n",
    "housesales %>% ggplot(aes(x=waterfront )) +\n",
    "geom_histogram(color=\"red\", fill=\"blue\", bins=2)+\n",
    "labs(x=\"Waterfront\", y=\"Count\", title=\"Distribution of waterfront\")\n",
    "\n",
    "grid.arrange(hist_price, hist_sqft, hist_condition, hist_waterfront, nrow=2, ncol=2)"
   ]
  },
  {
   "cell_type": "code",
   "execution_count": null,
   "metadata": {},
   "outputs": [],
   "source": [
    "# As both price and square feet are skewed a log transformation can help to make the distribution more normal\n",
    "# The log prices are allready given with log10_prices\n",
    "# Square feet is transformed now\n",
    "\n",
    "housesales <-\n",
    "housesales %>% mutate(log10_square = log10(sqft_living))\n",
    "names(housesales)\n",
    "\n",
    "housesales %>% dplyr::select(sqft_living, log10_square) %>% head()\n"
   ]
  },
  {
   "cell_type": "code",
   "execution_count": null,
   "metadata": {},
   "outputs": [],
   "source": [
    "\n",
    "\n",
    "hist_sqft_log <-\n",
    "housesales %>% ggplot(aes(x=log10_square)) +\n",
    "geom_histogram(color=\"red\", fill=\"green\", , bins=20)+\n",
    "labs(x=\"Square feet in the logarithm to basis 10\", y=\"Count \", title=\"Distribution of log square feet\")\n",
    "\n",
    "\n",
    "grid.arrange(housesales_log_hist, hist_sqft_log, ncol=2)\n",
    "\n",
    "# The result of the log transformation is satifying as both distribution are now more normal"
   ]
  },
  {
   "cell_type": "code",
   "execution_count": null,
   "metadata": {},
   "outputs": [],
   "source": [
    "install.packages(\"scatterplot3d\",  repos = c(\"http://rstudio.org/_packages\",\"http://cran.rstudio.com\")) # Install\n",
    "library(\"scatterplot3d\") # load"
   ]
  },
  {
   "cell_type": "code",
   "execution_count": null,
   "metadata": {},
   "outputs": [],
   "source": [
    "# Regression model predicting house prices with square feet and the year the houses were built\n",
    "\n",
    "y_3d <- housesales$log10_prices\n",
    "x_3d <- housesales$log10_square\n",
    "z_3d <- housesales$yr_built\n",
    "\n",
    "Scatterplot_3D_price_sf_year <- scatterplot3d(x=x_3d, y=y_3d, z=z_3d, \n",
    "              main=\"3D Scatter Plot of the relationship between \\nprices, square feet and year built\",\n",
    "              xlab = \"Square feet in logarithm\",\n",
    "              ylab = \"House prices in logarithm\",\n",
    "              zlab = \"Year the house was built\",\n",
    "              pch = 16, color=\"steelblue\",\n",
    "              col.grid=\"red\",\n",
    "              col.axis=\"red\",\n",
    "              cex.symbols=0.2,\n",
    "              highlight.3d = TRUE, angle = 60,)\n",
    "\n"
   ]
  },
  {
   "cell_type": "code",
   "execution_count": null,
   "metadata": {},
   "outputs": [],
   "source": [
    "# build a regression model with prices predicted by year built and square feet\n",
    "# building a regression model with one independent variable: bedrooms)\n",
    "# dummy variables are created by lm only for factor\n",
    "# convert condition type integer into factors\n",
    "# is year built a categorical variable or a numerical variable?\n",
    "\n",
    "housesales <-\n",
    "housesales %>% mutate(yr_built_as_factor = factor(yr_built))\n",
    "\n",
    "reg_model_price_yr_sf <-\n",
    "lm(log10_prices~log10_square+yr_built , data=housesales_none_33 )\n",
    "\n",
    "\n",
    "get_regression_table(reg_model_price_yr_sf)\n",
    "reg_model_price_yr_sf_pred <-\n",
    "predict(reg_model_price_yr_sf)\n",
    "\n",
    "\n",
    "\n",
    "# As none houses were built in year 0 the intercept is meaningless\n",
    "# For every year (unit) the price decreases by -0.001\n",
    "# For every square feet (unit) the price increases by 0.913\n",
    "\n",
    "\n"
   ]
  },
  {
   "cell_type": "code",
   "execution_count": null,
   "metadata": {},
   "outputs": [],
   "source": [
    "# Model assesment\n",
    "\n",
    "rmse_reg_model_price_yr_sf <-\n",
    "rmse(housesales_none_33$log10_prices, reg_model_price_yr_sf_pred)\n",
    "\n",
    "RSS_reg_model_price_yr_sf  <-\n",
    "get_regression_points(reg_model_price_yr_sf ) %>% mutate(RS=residual^2) %>% summarize(RSS=sum(RS))\n",
    "\n",
    "R_squared_reg_model_price_yr_sf_extracted <- summary(reg_model_price_yr_sf )$adj.r.squared\n",
    "\n",
    "TSS_squared_reg_model_price_yr <-  sum((housesales_none_33$log10_prices - mean(housesales_none_33$log10_prices))^2)\n",
    "\n",
    "R_squared_reg_model_price_yr_calculated <- 1- RSS_reg_model_price_yr_sf / TSS_squared_reg_model_price_yr \n",
    "\n",
    "paste(\"rmse: \", RSS_reg_model_price_yr_sf )\n",
    "paste(\"R_square_extracted: \", R_squared_reg_model_price_yr_sf_extracted )\n",
    "paste(\"R_squared_calculated: \", R_squared_reg_model_price_yr_calculated)\n",
    "paste(\"RSS: \", RSS_reg_model_price_yr_sf)\n",
    "\n",
    "\n",
    "TSS_all <- TSS_squared_reg_model_price_yr"
   ]
  },
  {
   "cell_type": "code",
   "execution_count": null,
   "metadata": {},
   "outputs": [],
   "source": [
    "# Adding number of bedrooms\n",
    "\n",
    "# EDA\n",
    "str(housesales$bedrooms)\n",
    "sort(unique(housesales$bedrooms))\n",
    "summary(housesales$bedrooms)\n",
    "\n",
    "hs_bed_hist <-\n",
    "housesales %>% ggplot(aes(x=bedrooms))+ geom_histogram(fill=\"black\", color=\"red\", bins=10) + \n",
    "labs(x=\"Number of bedrooms by house\", y=\"Count\", title=\"Distribution bedrooms variable\")+\n",
    "theme(plot.title = element_text(size=10, hjust = 0.5), axis.title=element_text(size=9, face=\"plain\"))\n",
    "\n",
    "hs_bed_pr_box <- \n",
    "housesales %>% ggplot(aes(x=as.factor(bedrooms), y=log10_prices))+ geom_boxplot(fill=\"black\", color=\"red\") + \n",
    "labs(x=\"Number of bedrooms by house\", y=\"Log transformed prices\", title=\"Distribution bedrooms by price\")+ \n",
    "theme(plot.title = element_text(size=10, hjust = 0.5), axis.title=element_text(size=9, face=\"plain\"))\n",
    "\n",
    "# A house with 33 bedrooms seems to be an outlier\n",
    "# Remove from data set\n",
    "\n",
    "housesales_none_33 <-\n",
    "housesales %>% filter(bedrooms != 33)\n",
    "\n",
    "hs_bed_hist_none_33 <-\n",
    "housesales_none_33  %>% ggplot(aes(x=bedrooms))+ geom_histogram(fill=\"gold\", color=\"black\", bins=10) + \n",
    "labs(x=\"Number of bedrooms by house\", y=\"Count\", title=\"Distribution bedrooms variable\")+\n",
    "theme(plot.title = element_text(size=10, hjust = 0.5), axis.title=element_text(size=9, face=\"plain\"))\n",
    "\n",
    "hs_bed_pr_box_none_33 <- \n",
    "housesales_none_33  %>% ggplot(aes(x=as.factor(bedrooms), y=log10_prices))+ geom_boxplot(fill=\"gold\", color=\"black\") + \n",
    "labs(x=\"Number of bedrooms by house\", y=\"Log transformed prices\", title=\"Distribution bedrooms by price\")+\n",
    "theme(plot.title = element_text(size=10, hjust = 0.5), axis.title=element_text(size=9, face=\"plain\"))\n",
    "\n",
    "hs_point_reg <- \n",
    "housesales %>% ggplot(aes(x=bedrooms, y=log10_prices)) + \n",
    "geom_point(color=\"green\")+\n",
    "geom_smooth(method=\"lm\", se=FALSE)+\n",
    "labs(x=\"Number of bedrooms by house\", y=\"Log transformed prices\", title=\"Bedrooms by price\")+\n",
    "theme(plot.title = element_text(size=10, hjust = 0.5), axis.title=element_text(size=9, face=\"plain\"))\n",
    "\n",
    "\n",
    "hs_point_reg_none_33 <-\n",
    "housesales_none_33 %>% ggplot(aes(x=bedrooms, y=log10_prices)) + \n",
    "geom_point(color=\"green\") +\n",
    "geom_smooth(method=\"lm\", se=FALSE)+\n",
    "labs(x=\"Number of bedrooms by house\", y=\"Log transformed prices\", title=\"Bedrooms by price\")+\n",
    "theme(plot.title = element_text(size=10, hjust = 0.5), axis.title=element_text(size=9, face=\"plain\"))\n",
    "\n",
    "\n",
    "grid.arrange(hs_bed_hist, hs_bed_pr_box, hs_bed_hist_none_33, hs_bed_pr_box_none_33,\n",
    "             hs_point_reg, hs_point_reg_none_33, nrow=3,  ncol=2)\n",
    "\n",
    "# Afer removing the outlier the distribution and scatterplot is far more condensed"
   ]
  },
  {
   "cell_type": "code",
   "execution_count": null,
   "metadata": {},
   "outputs": [],
   "source": [
    "# building a regression model with one independent variable: bedrooms)\n",
    "# dummy variables are created by lm only for factor\n",
    "# convert condition type integer into factors\n",
    "\n",
    "names(housesales_none_33)\n",
    "\n",
    "reg_model_bed_pr <- \n",
    "lm(log10_prices~bedrooms_as_factors,data=housesales_none_33)\n",
    "\n",
    "reg_model_bed_pr_table <-\n",
    "get_regression_table(reg_model_bed_pr )\n",
    "reg_model_bed_pr_pred <- \n",
    "predict(reg_model_bed_pr)\n",
    "\n",
    "\n",
    "get_regression_table(reg_model_bed_pr )\n",
    "head(get_regression_points(reg_model_bed_pr ))\n"
   ]
  },
  {
   "cell_type": "code",
   "execution_count": null,
   "metadata": {},
   "outputs": [],
   "source": [
    "# Model assesment\n",
    "\n",
    "\n",
    "reg_model_bed_pr_RSS <-\n",
    "get_regression_points(reg_model_bed_pr) %>% mutate(RS=residual^2) %>% summarize(RSS= sum(RS))\n",
    "\n",
    "\n",
    "reg_model_bed_pr_rmse <-\n",
    "rmse(housesales_none_33$log10_prices, reg_model_bed_pr_pred)\n",
    "\n",
    "reg_model_bed_pr_R_squared <- \n",
    "1- (reg_model_bed_pr_RSS / TSS_all)\n",
    "\n",
    "paste(\"R-squared extracted\", summary(reg_model_bed_pr)$adj.r.squared)\n",
    "paste(\"R-squared: \", reg_model_bed_pr_R_squared )\n",
    "paste(\"RSS: \", reg_model_bed_pr_RSS)\n",
    "paste(\"rmse: \", reg_model_bed_pr_rmse)\n",
    "\n"
   ]
  },
  {
   "cell_type": "code",
   "execution_count": null,
   "metadata": {},
   "outputs": [],
   "source": [
    "# building a regression model with two independent variables: bedrooms+log10_square)\n",
    "# dummy variables are created by lm only for factor\n",
    "# convert condition type integer into factors\n",
    "\n",
    "class (housesales_none_33$bedrooms)\n",
    "sort(unique(housesales_none_33$bedrooms))\n",
    "housesales_none_33 <-\n",
    "housesales_none_33 %>% mutate(bedrooms_as_factors = factor(bedrooms))\n",
    "\n",
    "names(housesales_none_33)\n",
    "\n",
    "\n",
    "reg_model_bed_sq <-\n",
    "lm(log10_prices~bedrooms_as_factors+log10_square,data=housesales_none_33)\n",
    "\n",
    "get_regression_table(reg_model_bed_sq)\n",
    "\n",
    "\n",
    "reg_model_bed_sq_pred <- \n",
    "predict(reg_model_bed_sq)\n",
    "\n",
    "head(housesales_none_33)\n",
    "\n",
    "# some interpretations:\n",
    "# the increase in log price for every unit in log square feet is 0.968\n",
    "# the intercept is the baseline for the categorical variable bedrooms\n",
    "# in this case houses with 0 bedrooms start at 2.498\n",
    "# the coefficients for every bedroom type coded as dummy variables \n",
    "# are the increase in house prices from the intercept as the baseline\n",
    "# a house with two bedrooms increases the price by 0.089 \n",
    "# or shifts / offsets the data point by 0.089 on the y-axis from the intercept at 2.498 \n",
    "# contra intuitively more bedrooms seems not to increase the price every time\n",
    "# this is also reflected in the regression line belowe\n"
   ]
  },
  {
   "cell_type": "code",
   "execution_count": null,
   "metadata": {},
   "outputs": [],
   "source": [
    "\n",
    "\n",
    "# Make a prediction for only one data point by two independent variables\n",
    "\n",
    "df_new_data <-\n",
    "data.frame(bedrooms_as_factors=factor(1), log10_square = 3.071882)\n",
    "\n",
    "df_new_data\n",
    "\n",
    "\n",
    "pred_df_new_data <-\n",
    "predict(reg_model_bed_sq , newdata = df_new_data )\n",
    "\n",
    "\n",
    "paste(\"Predict the log price of a house with one bedroom and a log10_square of 3.071882: \", \n",
    "      round(pred_df_new_data, 2), \"or $\", round(10^pred_df_new_data, 2)  )\n",
    "\n",
    "pred_df_new_data_manual <-\n",
    "2.693  + 1*-0.033 + 0.941 * 3.071882\n",
    "\n",
    "paste(\"Predict manually calculated: \", pred_df_new_data_manual )\n"
   ]
  },
  {
   "cell_type": "code",
   "execution_count": null,
   "metadata": {},
   "outputs": [],
   "source": [
    "\n",
    "\n",
    "\n",
    "# Model assesment\n",
    "\n",
    "RSS_reg_model_bed_sq <-\n",
    "get_regression_points(reg_model_bed_sq ) %>% mutate(RS=residual^2) %>% summarize(RSS=sum(RS))\n",
    "\n",
    "paste(\"RSS: \", RSS_reg_model_bed_sq)\n",
    "\n",
    "# rmse\n",
    "paste(\"rmse: \", rmse(housesales_none_33$log10_prices, reg_model_bed_sq_pred ))\n",
    "\n",
    "# R-squared = Explained variation / Total variation\n",
    "# R-squared is always between 0 and 100%:\n",
    "# 0% indicates that the model explains none of the variability of the response data around its mean.\n",
    "# 100% indicates that the model explains all the variability of the response data around its mean.\n",
    "# summary(eruption.lm)$r.squared\n",
    "\n",
    "\n",
    "R_squared_reg_model_bed_sq <- \n",
    "1- (RSS_reg_model_bed_sq / TSS_all)\n",
    "\n",
    "paste(\"R-squared_extracted: \", summary(reg_model_bed_sq)$adj.r.squared)\n",
    "paste(\"R-squared_calculated: \", R_squared_reg_model_bed_sq)\n",
    "\n",
    "\n",
    "# R-squared: 0.465\n",
    "# the model explains some of of the variability of the response data around its mean.\n",
    "# Improvement compared with only bedrooms\n",
    "\n"
   ]
  },
  {
   "cell_type": "code",
   "execution_count": null,
   "metadata": {},
   "outputs": [],
   "source": [
    "# investigate the relationship between sf and price\n",
    "plot_pr_sqf_col_points <- \n",
    "housesales_none_33 %>% ggplot(aes(x=log10_square, y=log10_prices)) +\n",
    "geom_point(aes(color=factor(bedrooms)))+\n",
    "geom_smooth(method=\"lm\", se=FALSE)+\n",
    "scale_color_brewer( palette = \"Paired\", name=\"Number of bedrooms\")+\n",
    "labs(x=\"Square feet log\", y=\"Prices log\", title=\"Prices dependent on square feet grouped by bedrooms\")+\n",
    "theme(plot.title = element_text(size=10, hjust = 0.5), axis.title=element_text(size=9, face=\"plain\"),\n",
    "     legend.position=\"right\")\n",
    "\n",
    "# investigate the relationship between sf and price seperately for each number of bedrooms\n",
    "plot_pr_sqf_col_group <- \n",
    "housesales_none_33 %>% ggplot(aes(x=log10_square, y=log10_prices, color=factor(bedrooms))) +\n",
    "geom_point()+ \n",
    "scale_color_brewer( palette = \"Paired\", name=\"Number of bedrooms\")+\n",
    "geom_smooth(method=\"lm\", se=FALSE)+\n",
    "labs(x=\"Square feet log\", y=\"Prices log\", title=\"Prices dependent on square feet grouped with regressions per bedrooms\")+\n",
    "theme(plot.title = element_text(size=10, hjust = 0.5), axis.title=element_text(size=9, face=\"plain\"),\n",
    "     legend.position=\"right\")\n",
    "\n",
    "\n",
    "# Regression with paralell slopes but different intercepts\n",
    "\n",
    "df_3333 <- cbind(housesales_none_33, pred=predict(reg_model_bed_sq))\n",
    "\n",
    "plot_pr_sqf_col_group_paralell_slopes <-\n",
    "ggplot(data=df_3333 , mapping=aes(x=log10_square, y=log10_prices, color=factor(bedrooms))) + \n",
    "geom_point() + \n",
    "geom_line(mapping=aes(y=pred), size=1)+\n",
    "scale_color_brewer( palette = \"Paired\", name=\"Number of bedrooms\")+\n",
    "labs(x=\"Square feet log\", y=\"Prices log\", \n",
    "     title=\"Paralell slopes model with intercepts from bedroom type\")+\n",
    "theme(plot.title = element_text(size=10, hjust = 0.5), axis.title=element_text(size=9, face=\"plain\"),\n",
    "     legend.position=\"right\")\n",
    "\n",
    "\n",
    "\n",
    "# reduce number of bedrooms to 5\n",
    "plot_pr_sqf_col_group_bed_5 <-\n",
    "housesales_none_33 %>% filter(bedrooms<=5) %>% \n",
    "ggplot(aes(x=log10_square, y=log10_prices, color=factor(bedrooms))) +\n",
    "geom_point()+ \n",
    "scale_color_brewer( palette = \"Paired\", name=\"Number of bedrooms\")+\n",
    "geom_smooth(method=\"lm\", se=FALSE)+\n",
    "labs(x=\"Square feet log\", y=\"Prices log\", title=\"Number of bedrooms reduced to 5\")+\n",
    "theme(plot.title = element_text(size=10, hjust = 0.5), axis.title=element_text(size=9, face=\"plain\"),\n",
    "     legend.position=\"right\")\n",
    "\n",
    "\n",
    "plot(plot_pr_sqf_col_points)\n",
    "plot(plot_pr_sqf_col_group)\n",
    "\n"
   ]
  },
  {
   "cell_type": "code",
   "execution_count": null,
   "metadata": {},
   "outputs": [],
   "source": [
    "plot(plot_pr_sqf_col_group_paralell_slopes)\n",
    "plot(plot_pr_sqf_col_group_bed_5)"
   ]
  },
  {
   "cell_type": "code",
   "execution_count": null,
   "metadata": {},
   "outputs": [],
   "source": [
    "plot_pr_sqf_col_group_paralell_slopes +\n",
    "facet_wrap(.~bedrooms)"
   ]
  },
  {
   "cell_type": "code",
   "execution_count": null,
   "metadata": {},
   "outputs": [],
   "source": [
    "# building a model predicting house prices with the predictors square feet and condition\n",
    "\n",
    "glimpse(housesales_none_33$condition)\n",
    "unique(housesales_none_33$condition)\n",
    "class(housesales_none_33$condition)\n",
    "length(housesales_none_33$condition)\n",
    "summary(housesales_none_33$condition)\n",
    "sort(unique(housesales_none_33$bedrooms))\n",
    "\n",
    "\n",
    "\n",
    "# bar plot of house condition\n",
    "\n",
    "ggplot(housesales_none_33, aes(x=condition))+\n",
    "geom_bar(fill=c(\"#7FFFD4\", \"#F0FFFF\", \"#DEB887\", \"#7FFF00\", \"#FFB90F\"))+\n",
    "labs(y=\"Counts of condition\", x=\"Conditions of the house\", title=\"Counts of type of condition\")+\n",
    "theme(plot.title=element_text(hjust=0.5))+\n",
    "geom_text(y=13000, x=3, label=\"14031 houses\")+\n",
    "geom_text(y=500, x=1, label=\"30 houses\")+\n",
    "geom_text(y=500, x=2, label=\"172 houses\")+\n",
    "geom_text(y=5200, x=4, label=\"5679 houses\")+\n",
    "geom_text(y=1300, x=5, label=\"1700 houses\")\n",
    "\n",
    "# Conclusion: the group of houses in condition 3 is the largest\n",
    "\n",
    "housesales_none_33 %>% \n",
    "group_by(condition) %>%\n",
    "summarize(Counts_of_condition = n(), \n",
    "          mean_log_prices = mean(log10_prices), sd_log_prices = sd(log10_prices))\n"
   ]
  },
  {
   "cell_type": "code",
   "execution_count": null,
   "metadata": {},
   "outputs": [],
   "source": [
    "\n",
    "ggplot(housesales_none_33, aes(x=condition,fill=factor(bedrooms)))+\n",
    "geom_bar(position = \"fill\")+\n",
    "scale_fill_brewer( palette = \"Paired\")+\n",
    "labs(y=\"Percentage of bedrooms within condition\", x=\"Condition of the house\", \n",
    "     title=\"Number of bedrooms within house condition\")+\n",
    "theme(plot.title=element_text(hjust=0.5))+\n",
    "guides(fill = guide_legend(title = \"Number of bedrooms\", title.position = \"top\"))\n",
    "\n",
    "# Conclusion: in every condition the largest group are houses with 3 bedrooms, followed by 4 bedrooms\n",
    "# 0 and 1 bedroom are less represented"
   ]
  },
  {
   "cell_type": "code",
   "execution_count": null,
   "metadata": {},
   "outputs": [],
   "source": [
    "plot_hs_n33_pr_sf_cond_one_reg <- \n",
    "housesales_none_33 %>% ggplot(aes(x=log10_square, y=log10_prices)) +\n",
    "geom_point(aes(color=factor(condition)))+\n",
    "geom_smooth(method=\"lm\", se=FALSE)+ \n",
    "scale_color_brewer(palette = \"Set1\", name= \"Conditions\") +\n",
    "labs(x=\"Square feet log\", y=\"Prices log\", \n",
    "     title=\"Prices dependent on square feet grouped with points per condition type\")+\n",
    "theme(plot.title = element_text(size=10, hjust = 0.5), axis.title=element_text(size=9, face=\"plain\"),\n",
    "     legend.position=\"right\")\n",
    "\n",
    "plot(plot_hs_n33_pr_sf_cond_one_reg )"
   ]
  },
  {
   "cell_type": "code",
   "execution_count": null,
   "metadata": {},
   "outputs": [],
   "source": [
    "# investigate the relationship between sf and price seperately for each number of bedrooms\n",
    "\n",
    "\n",
    "colors_1212 <- c(\"#FF7F24\", \"#76EEC6\", \"#FF3030\", \"#FF8C00\", \"#EEC900\")\n",
    "\n",
    "plot_pr_sqf_cond <- \n",
    "housesales_none_33 %>% ggplot(aes(x=log10_square, y=log10_prices, color=factor(condition))) +\n",
    "geom_point()+ \n",
    "scale_color_manual( values= c(colors_1212), name= \"Conditions\")+\n",
    "geom_smooth(method=\"lm\", se=FALSE)+\n",
    "labs(x=\"Square feet log\", y=\"Prices log\", title=\"Prices dependent on square feet grouped with regressions per condition\")+\n",
    "theme(plot.title = element_text(size=10, hjust = 0.5), axis.title=element_text(size=9, face=\"plain\"),\n",
    "     legend.position=\"right\")\n",
    "\n",
    "plot(plot_pr_sqf_cond)"
   ]
  },
  {
   "cell_type": "code",
   "execution_count": null,
   "metadata": {},
   "outputs": [],
   "source": [
    "# dummy variables are created by lm only for factor\n",
    "# convert condition type integer into factors\n",
    "\n",
    "condition_as_factor <-  factor(housesales_none_33$condition)\n",
    "\n",
    "reg_model_pr_sqf_cond <-\n",
    "lm(log10_prices ~ log10_square + condition_as_factor,  data= housesales_none_33)\n",
    "\n",
    "reg_model_pr_sqf_cond_table <-\n",
    "get_regression_table(reg_model_pr_sqf_cond )\n",
    "\n",
    "reg_model_pr_sqf_cond_points <-\n",
    "get_regression_points(reg_model_pr_sqf_cond)\n",
    "\n",
    "summary(reg_model_pr_sqf_cond )\n",
    "\n",
    "reg_model_pr_sqf_cond_table\n",
    "\n",
    "head(reg_model_pr_sqf_cond_points)\n",
    "\n"
   ]
  },
  {
   "cell_type": "code",
   "execution_count": null,
   "metadata": {},
   "outputs": [],
   "source": [
    "head(reg_model_pr_sqf_cond_points)\n",
    "\n",
    "\n",
    "# Model assesment\n",
    "\n",
    "# RSS\n",
    "RSS_reg_model_pr_sqf_cond_points <-\n",
    "reg_model_pr_sqf_cond_points %>% mutate(RS=residual^2) %>% summarize(RSS=sum(RS))\n",
    "\n",
    "\n",
    "# rmse\n",
    "reg_model_pr_sqf_cond_pred <-\n",
    "predict(reg_model_pr_sqf_cond )\n",
    "\n",
    "\n",
    "# RS-squared\n",
    "\n",
    "TSS_reg_model_pr_sqf_cond <-  sum((housesales_none_33$log10_prices - mean(housesales_none_33$log10_prices))^2)\n",
    "\n",
    "\n",
    "R_squared_cond_manually <- 1-RSS_reg_model_pr_sqf_cond_points / TSS_reg_model_pr_sqf_cond\n",
    "\n",
    "# Display\n",
    "paste(\"rmse: \", rmse(housesales_none_33$price, reg_model_pr_sqf_cond_pred ))\n",
    "paste(\"RSS: \", RSS_reg_model_pr_sqf_cond_points)\n",
    "paste(\"R-squared extracted: \", summary(reg_model_pr_sqf_cond )$adj.r.squared)\n",
    "paste(\"R-squared qualculated with formula: \", R_squared_cond_manually )\n",
    "\n",
    "\n",
    "# Neither RSS nor rmse speaks for a good model quality\n"
   ]
  },
  {
   "cell_type": "code",
   "execution_count": null,
   "metadata": {},
   "outputs": [],
   "source": [
    "# Regression with paralell slopes but different intercepts\n",
    "\n",
    "df_4444 <- cbind(housesales_none_33, pred=predict(reg_model_pr_sqf_cond ))\n",
    "\n",
    "plot_pr_sqf_cond_paralell_slopes <-\n",
    "ggplot(data=df_4444 , mapping=aes(x=log10_square, y=log10_prices, color=factor(condition))) + \n",
    "geom_point() + \n",
    "geom_line(mapping=aes(y=pred), size=1)+\n",
    "scale_color_brewer( palette = \"Paired\", name=\"Condition\")+\n",
    "labs(x=\"Square feet log\", y=\"Prices log\", \n",
    "     title=\"Paralell slopes model with intercepts by condition type\")+\n",
    "theme(plot.title = element_text(size=10, hjust = 0.5), axis.title=element_text(size=9, face=\"plain\"),\n",
    "     legend.position=\"right\")\n",
    "\n",
    "plot(plot_pr_sqf_cond_paralell_slopes)"
   ]
  },
  {
   "cell_type": "code",
   "execution_count": null,
   "metadata": {},
   "outputs": [],
   "source": [
    "plot_pr_sqf_cond_paralell_slopes_wrap <-\n",
    "ggplot(data=df_4444 , mapping=aes(x=log10_square, y=log10_prices, color=factor(condition))) + \n",
    "geom_point() + \n",
    "geom_line(mapping=aes(y=pred), size=1)+\n",
    "scale_color_brewer( palette = \"Paired\", name=\"Condition\")+\n",
    "labs(x=\"Square feet log\", y=\"Prices log\", \n",
    "     title=\"Paralell slopes model with intercepts by condition type\")+\n",
    "theme(plot.title = element_text(size=10, hjust = 0.5), axis.title=element_text(size=9, face=\"plain\"),\n",
    "     legend.position=\"right\", axis.text.x = element_text(angle=90, hjust=1))+\n",
    "facet_wrap(.~condition, scales = \"free\")\n",
    "\n",
    "plot(plot_pr_sqf_cond_paralell_slopes_wrap)"
   ]
  },
  {
   "cell_type": "code",
   "execution_count": null,
   "metadata": {},
   "outputs": [],
   "source": [
    "glimpse(housesales_none_33)\n",
    "reg_model_housesales_none_33_all <- \n",
    "lm(log10_prices ~ ., data=housesales_none_33)\n",
    "\n"
   ]
  },
  {
   "cell_type": "code",
   "execution_count": null,
   "metadata": {},
   "outputs": [],
   "source": [
    "get_regression_table(reg_model_housesales_none_33_all)"
   ]
  },
  {
   "cell_type": "markdown",
   "metadata": {},
   "source": [
    "#### Model selection base on RSS"
   ]
  },
  {
   "cell_type": "code",
   "execution_count": null,
   "metadata": {},
   "outputs": [],
   "source": [
    "# There are four models predicting houseprice\n",
    "# The dataset is housesales_none_33\n",
    "# The independent numerical variable is always square feet\n",
    "# The categorical variables are changing with every model.\n",
    "# These are: water front, bedrooms, condition, year\n",
    "# And the models are reg_model_pr_sqf_cond, reg_model_bed_sq, reg_model_bed_sq\n",
    "\n",
    "paste(\"RSS_waterfront: \", reg_model_sf_water_RS)\n",
    "paste(\"RSS_bedrooms: \",RSS_reg_model_bed_sq )\n",
    "paste(\"RSS_condition: \",RSS_reg_model_pr_sqf_cond_points)\n",
    "paste(\"RSS_year: \", RSS_reg_model_price_yr_sf)\n",
    "# Reasoning:\n",
    "# RSS is based on the residuals or the distance between observed and predicted y-values\n",
    "# If the distance is 0 the prediction is perfect\n",
    "\n",
    "# Conclusion:\n",
    "# The RSS of the year model has the smallest distance to 0\n",
    "# Therefore this model has got the best prediction quality\n",
    "# RSS is best used to judge the model quality between different models and not the quality of a stand alone model\n",
    "\n",
    "# Now adding a model with one numerical variable and one categorical variable\n",
    "\n"
   ]
  },
  {
   "cell_type": "markdown",
   "metadata": {},
   "source": [
    "#### Model selection base on R-squared"
   ]
  },
  {
   "cell_type": "code",
   "execution_count": null,
   "metadata": {},
   "outputs": [],
   "source": [
    "# R-squared is the variance explained by the model of the total variance\n",
    "# An r-squared close or equal to one is perfect\n",
    "# In this case explained variance is equal to total variance\n",
    "\n",
    "\n",
    "paste(\"R-square Waterfront: \", reg_model_sf_water_R_squared)\n",
    "paste(\"R-square Bedrooms: \", R_squared_reg_model_bed_sq )\n",
    "paste(\"R-square Condition: \", R_squared_cond_manually )\n",
    "paste(\"R-squared Year: \", R_squared_reg_model_price_yr_calculated)\n",
    "\n",
    "# Conclusion:\n",
    "# The RSS of the year model has the highest R-squared\n",
    "# TSS and RSS are more close to each other\n",
    "# Therefore this model has got the best prediction quality#\n",
    "# This is coherent with model selection by RSS\n",
    "# This is not always the case\n"
   ]
  },
  {
   "cell_type": "code",
   "execution_count": null,
   "metadata": {},
   "outputs": [],
   "source": [
    "# Using the functions coded to do the model assesment\n",
    "# data= housesales_none_33\n",
    "\n",
    "housesales_log10_reg_models <-\n",
    "list(reg_model_price_yr_sf, simple_linear_regression_logprice_waterfront, \n",
    "     reg_model_sf_water, reg_model_bed_pr, reg_model_pr_sqf_cond, reg_model_housesales_none_33_all )\n",
    "\n",
    "\n",
    "housesales_log10_reg_models_names <- \n",
    "list(\"reg_model_price_yr_sf\", \"simple_linear_regression_logprice_waterfront\", \n",
    "     \"reg_model_sf_water\", \"reg_model_bed_pr\", \"reg_model_pr_sqf_cond\", \"reg_model_housesales_none_33_all\" )\n",
    "\n"
   ]
  },
  {
   "cell_type": "code",
   "execution_count": null,
   "metadata": {},
   "outputs": [],
   "source": [
    "\n",
    "\n",
    "R_squared_calc_over_many_models(regression_models=housesales_log10_reg_models, \n",
    "                                R_squared_reg_model_names=housesales_log10_reg_models_names, \n",
    "                                dependent_variable=housesales_none_33$log10_prices )\n"
   ]
  },
  {
   "cell_type": "code",
   "execution_count": null,
   "metadata": {},
   "outputs": [],
   "source": [
    "rmse_calc_over_many_models(regression_models=housesales_log10_reg_models, \n",
    "                           rmse_reg_model_names=housesales_log10_reg_models_names, \n",
    "                           response_variable=housesales_none_33$log10_prices )"
   ]
  },
  {
   "cell_type": "code",
   "execution_count": null,
   "metadata": {},
   "outputs": [],
   "source": [
    "\n",
    "RSS_finding_for_many_models(housesales_log10_reg_models, housesales_log10_reg_models_names)\n",
    "\n",
    "# Why is it not sorted?\n",
    "\n",
    "# Conclusion: the reg_model_housesales_none_33_all including all variables delivers \n",
    "# the best predictions according to all performance evaluation metrics\n",
    "\n",
    "# Can model with log transformation over more variables deliver better predictions?"
   ]
  },
  {
   "cell_type": "code",
   "execution_count": null,
   "metadata": {},
   "outputs": [],
   "source": [
    "# Transform the housesales_none_33 with log10 using a for loop and not doing it manually\n",
    "\n",
    "class(housesales_none_33$id )\n",
    "class(housesales_none_33$bedrooms  )\n",
    "names(housesales_none_33)\n",
    "\n",
    "# Make a new df\n",
    "housesales_none_33_transformed <- housesales_none_33\n",
    "\n",
    "# Discard columns allready log transformed\n",
    "# Transforming these would be transforming transformed variables\n",
    "housesales_none_33_transformed <- \n",
    "housesales_none_33_transformed %>% dplyr::select(- log10_prices, - log10_square, -bedrooms_as_factors)\n",
    "\n",
    "glimpse(housesales_none_33_transformed)\n"
   ]
  },
  {
   "cell_type": "code",
   "execution_count": null,
   "metadata": {},
   "outputs": [],
   "source": [
    "# Cleaning data\n",
    "\n",
    "# Make categorical variables to factors\n",
    "\n",
    "housesales_none_33_transformed <-\n",
    "housesales_none_33_transformed %>%\n",
    "mutate(view = factor( view  ),\n",
    "       waterfront = factor(waterfront),\n",
    "       floors=factor(floors),\n",
    "       bathrooms = as.numeric(bathrooms ),\n",
    "       condition = factor(condition),\n",
    "       grade = factor(grade),      \n",
    "       date = as.Date(date, format=\"%Y%m%d\"),\n",
    "       bedrooms = factor(bedrooms))\n",
    "\n",
    "# Replace 0 values in the numerical variables with 0.00000001 making log transformation possible\n",
    "\n",
    "housesales_none_33_transformed <-\n",
    "housesales_none_33_transformed %>% mutate(yr_renovated=replace(yr_renovated, yr_renovated==0, 0.00000001),\n",
    "                                          sqft_basement=replace(sqft_basement, sqft_basement==0, 0.00000001)\n",
    "                                          )\n",
    "\n"
   ]
  },
  {
   "cell_type": "code",
   "execution_count": null,
   "metadata": {},
   "outputs": [],
   "source": [
    "glimpse(housesales_none_33_transformed )"
   ]
  },
  {
   "cell_type": "code",
   "execution_count": null,
   "metadata": {},
   "outputs": [],
   "source": [
    "# Finding the class of the variables\n",
    "# Testing it\n",
    "\n",
    "for (i in names(housesales_none_33_transformed)) {\n",
    "    \n",
    "    k <- class(housesales_none_33_transformed[,i])\n",
    "    print(k)\n",
    "    \n",
    "}\n"
   ]
  },
  {
   "cell_type": "code",
   "execution_count": null,
   "metadata": {},
   "outputs": [],
   "source": [
    "for (i in names(housesales_none_33_transformed)) {\n",
    "    \n",
    "    k <- class(housesales_none_33_transformed[,i])\n",
    " \n",
    "    \n",
    "    if(k==\"numeric\" | k==\"integer\") {\n",
    "        \n",
    "        housesales_none_33_transformed[,i] <- log10(abs(housesales_none_33_transformed[,i]))\n",
    "    } else {\n",
    "        \n",
    "        housesales_none_33_transformed[,i] <- housesales_none_33_transformed[,i]\n",
    "    }\n",
    "    \n",
    "}\n",
    "\n",
    "glimpse(housesales_none_33_transformed)"
   ]
  },
  {
   "cell_type": "code",
   "execution_count": null,
   "metadata": {},
   "outputs": [],
   "source": [
    "\n",
    "reg_lm_housesales_none_33_transformed <- \n",
    "lm(price ~ .,  data=housesales_none_33_transformed)\n",
    "\n",
    "\n",
    "summary(reg_lm_housesales_none_33_transformed)\n"
   ]
  },
  {
   "cell_type": "code",
   "execution_count": null,
   "metadata": {},
   "outputs": [],
   "source": [
    "get_regression_table(reg_lm_housesales_none_33_transformed)"
   ]
  },
  {
   "cell_type": "code",
   "execution_count": null,
   "metadata": {},
   "outputs": [],
   "source": [
    "# Model evaluation\n",
    "\n",
    "regression_models_housesales_none_33_transformed <- list(reg_lm_housesales_none_33_transformed)\n",
    "regression_models_housesales_none_33_transformed_name <- list(\"housesales_none_33_transformed\")\n",
    "\n",
    "\n",
    "R_squared_calc_over_many_models(regression_models=regression_models_housesales_none_33_transformed , \n",
    "                                R_squared_reg_model_names=regression_models_housesales_none_33_transformed_name, \n",
    "                                dependent_variable=housesales_none_33_transformed$price )\n",
    "\n"
   ]
  },
  {
   "cell_type": "code",
   "execution_count": null,
   "metadata": {},
   "outputs": [],
   "source": [
    "rmse_calc_over_many_models(regression_models=regression_models_housesales_none_33_transformed , \n",
    "                           rmse_reg_model_names=regression_models_housesales_none_33_transformed_name, \n",
    "                           response_variable=housesales_none_33_transformed$price)\n",
    "\n",
    "rmse_regression_models_housesales_none_33_transformed <-\n",
    "rmse(housesales_none_33_transformed$price, predict(reg_lm_housesales_none_33_transformed))\n",
    "\n",
    "rmse_regression_models_housesales_none_33_transformed \n",
    "10^rmse_regression_models_housesales_none_33_transformed "
   ]
  },
  {
   "cell_type": "code",
   "execution_count": null,
   "metadata": {},
   "outputs": [],
   "source": [
    "RSS_finding_for_many_models(regression_models_housesales_none_33_transformed , \n",
    "                            regression_models_housesales_none_33_transformed_name)\n",
    "\n",
    "# Conclusion:\n",
    "# The rmse is excellent\n",
    "# R-Squared is very good, while lower than in the best model above\n",
    "# The model evaluation indicates a very good model performance\n",
    "# Both high performance models can further be tweaked"
   ]
  },
  {
   "cell_type": "markdown",
   "metadata": {},
   "source": [
    "#### Model selection using a train-test-split for predictions"
   ]
  },
  {
   "cell_type": "code",
   "execution_count": null,
   "metadata": {},
   "outputs": [],
   "source": [
    "# Shuffle the row positions of the data frame randomly\n",
    "\n",
    "set.seed(125)\n",
    "\n",
    "housesales_none_33_transformed_shuffled_random <-\n",
    "housesales_none_33_transformed %>% \n",
    "sample_frac(0.5, replace = TRUE)\n",
    "\n",
    "head(housesales_none_33_transformed_shuffled_random )\n",
    "\n",
    "# Make a 60/40-train-test-split\n",
    "# Calculate training and test size\n",
    "\n",
    "nrow_housesales_none_33_transformed_shuffled_random <-\n",
    "nrow(housesales_none_33_transformed_shuffled_random)\n",
    "nrow_housesales_none_33_transformed_shuffled_random\n",
    "\n",
    "nrow_train_hs_shuffled <-\n",
    "floor(0.6 * nrow_housesales_none_33_transformed_shuffled_random)\n",
    "nrow_train_hs_shuffled \n",
    "\n",
    "nrow_test_hs_shuffled <-\n",
    "nrow_housesales_none_33_transformed_shuffled_random - nrow_train_hs_shuffled\n",
    "nrow_test_hs_shuffled \n",
    "\n",
    "training_set_hs_shuffled <- \n",
    "housesales_none_33_transformed_shuffled_random %>% slice(1:nrow_train_hs_shuffled)\n",
    "dim(training_set_hs_shuffled )\n",
    "\n",
    "test_set_hs_shuffled <- \n",
    "housesales_none_33_transformed_shuffled_random %>% \n",
    "slice(nrow(training_set_hs_shuffled ):nrow_housesales_none_33_transformed_shuffled_random)\n",
    "dim(test_set_hs_shuffled)\n",
    "\n",
    "6483+4323\n",
    "\n",
    "glimpse(training_set_hs_shuffled)\n",
    "glimpse(test_set_hs_shuffled)\n",
    "# levels(training_set_hs_shuffled$bathrooms)\n",
    "# levels(test_set_hs_shuffled$bathrooms)"
   ]
  },
  {
   "cell_type": "code",
   "execution_count": null,
   "metadata": {},
   "outputs": [],
   "source": [
    "# Build regression models with training and test data sets\n",
    "reg_lm_training_set_hs_shuffled <- \n",
    "lm(price ~., data=training_set_hs_shuffled )\n",
    "\n",
    "# Making predictions using get_regression_points this time\n",
    "\n",
    "pred_training_set_hs_shuffled <-\n",
    "predict(reg_lm_training_set_hs_shuffled, newdata = test_set_hs_shuffled )\n",
    "\n",
    "pred_get_reg_p <- \n",
    "get_regression_points(reg_lm_training_set_hs_shuffled, newdata = test_set_hs_shuffled )\n",
    "\n",
    "head(get_regression_points)\n",
    "\n",
    "\n",
    "# Measure performance\n",
    "\n",
    "rmse_pred_get_reg_p <-\n",
    "pred_get_reg_p %>%\n",
    "mutate(RS=residual^2)%>% summarize(rmse=sqrt(mean(RS)))\n",
    "rmse_pred_get_reg_p \n",
    "\n",
    "\n",
    "RSS_pred_get_reg_p <-\n",
    "pred_get_reg_p %>%\n",
    "mutate(RS=residual^2)%>% summarize(RSS=sqrt(sum(RS)))\n",
    "RSS_pred_get_reg_p \n",
    "\n",
    "reg_model_24234 <- list(reg_lm_training_set_hs_shuffled )\n",
    "reg_model_names_24234 <- list(\"reg_lm_training_set_hs_shuffled\")\n",
    "\n",
    "R_squared_calc_over_many_models(regression_models=reg_model_24234, \n",
    "                                R_squared_reg_model_names=reg_model_names_24234, \n",
    "                                dependent_variable=training_set_hs_shuffled$price)\n",
    "\n",
    "R_squared_calc_over_many_models(regression_models=reg_model_24234, \n",
    "                                R_squared_reg_model_names=reg_model_names_24234, \n",
    "                                dependent_variable=test_set_hs_shuffled$price)\n",
    "\n",
    "# Conclusion:\n",
    "# The rmse of the model without traing/test-split is 0.00826286004853892\n",
    "# The rmse of the model 0.008193514\n",
    "# The model makes exellent predictions on unseen data."
   ]
  },
  {
   "cell_type": "markdown",
   "metadata": {},
   "source": [
    "#### Appendix"
   ]
  },
  {
   "cell_type": "code",
   "execution_count": null,
   "metadata": {},
   "outputs": [],
   "source": [
    "# Time series visualization\n",
    "\n",
    "# quick time series visualization of date and price\n",
    "# convert date to POSIX forma\n",
    "housesales$date[1:5]\n",
    "housesales_dates <- as.Date(housesales$date, format=\"%Y%m%d\")\n",
    "housesales_dates <- as.POSIXct(housesales_dates)\n"
   ]
  },
  {
   "cell_type": "code",
   "execution_count": null,
   "metadata": {},
   "outputs": [],
   "source": [
    "ggplot(housesales, aes(x=housesales_dates, y=price)) + geom_line(color= \"blue\") \n",
    "# Interpretation: not a trend given"
   ]
  },
  {
   "cell_type": "code",
   "execution_count": null,
   "metadata": {},
   "outputs": [],
   "source": [
    "\n",
    "install.packages(\"gapminder\", repos='http://cran.us.r-project.org')\n",
    "library(gapminder)\n",
    "\n",
    "\n",
    "# Description\n",
    "# An excerpt of the data available at Gapminder.org. For each of 142\n",
    "# countries, the package provides values for life expectancy, GDP per capita,\n",
    "# and population, every five years, from 1952 to 2007\n",
    "# https://cran.r-project.org/web/packages/gapminder/gapminder.pdf\n",
    "glimpse(gapminder)"
   ]
  },
  {
   "cell_type": "code",
   "execution_count": null,
   "metadata": {},
   "outputs": [],
   "source": [
    "dim(gapminder)\n",
    "head(gapminder)\n",
    "names(gapminder)\n",
    "summary(gapminder)\n",
    "sum(is.na(gapminder))"
   ]
  },
  {
   "cell_type": "code",
   "execution_count": null,
   "metadata": {},
   "outputs": [],
   "source": []
  }
 ],
 "metadata": {
  "kernelspec": {
   "display_name": "R",
   "language": "R",
   "name": "ir"
  },
  "language_info": {
   "codemirror_mode": "r",
   "file_extension": ".r",
   "mimetype": "text/x-r-source",
   "name": "R",
   "pygments_lexer": "r",
   "version": "3.5.1"
  }
 },
 "nbformat": 4,
 "nbformat_minor": 2
}
